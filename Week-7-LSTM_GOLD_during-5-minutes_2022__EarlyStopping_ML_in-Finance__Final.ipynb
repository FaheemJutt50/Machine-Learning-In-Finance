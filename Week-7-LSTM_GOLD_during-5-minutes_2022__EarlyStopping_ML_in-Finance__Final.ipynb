{
 "cells": [
  {
   "cell_type": "markdown",
   "metadata": {},
   "source": [
    "<html> <h1 style=\"font-style:bold; color:blue;\"> Machine Learning in Finance </h1> </html>"
   ]
  },
  {
   "cell_type": "markdown",
   "metadata": {},
   "source": [
    "<html> <h1 style=\"font-style:italic; color:blue;\"> Week-7 </h1> </html>"
   ]
  },
  {
   "cell_type": "markdown",
   "metadata": {},
   "source": [
    "## LSTM (Long Short-Term Memory)\n",
    "\n",
    "## GOLD-2022 dataset \n",
    "     \n",
    "### Predictions of The Highest & Lowest prices DURING five(5) following minutes\n",
    "- Early-Stopping\n",
    "- Loss function: MSE\n",
    "\n",
    "### length of analysed history (sliding window)- 50 minutes ago\n",
    "\n",
    "#### dataset for training: 30.000 rows (minutes) ~ 1 month\n",
    "#### train / test = 90 /10"
   ]
  },
  {
   "attachments": {
    "a5936ca3-0185-4703-98ee-66f8d6404486.png": {
     "image/png": "[encoded data removed]"
    }
   },
   "cell_type": "markdown",
   "metadata": {},
   "source": [
    "___________________________![image.png](attachment:a5936ca3-0185-4703-98ee-66f8d6404486.png)"
   ]
  },
  {
   "cell_type": "code",
   "execution_count": 1,
   "metadata": {},
   "outputs": [],
   "source": [
    "import numpy as np\n",
    "import pandas as pd\n",
    "\n",
    "import matplotlib.pyplot as plt\n",
    "%matplotlib inline\n",
    "\n",
    "from matplotlib import*\n",
    "import seaborn as sns"
   ]
  },
  {
   "cell_type": "code",
   "execution_count": 2,
   "metadata": {
    "id": "Ixx8yjyPc3q7"
   },
   "outputs": [
    {
     "name": "stdout",
     "output_type": "stream",
     "text": [
      "Requirement already satisfied: tensorflow in c:\\users\\pc\\anaconda3\\lib\\site-packages (2.18.0)\n",
      "Requirement already satisfied: tensorflow-intel==2.18.0 in c:\\users\\pc\\anaconda3\\lib\\site-packages (from tensorflow) (2.18.0)\n",
      "Requirement already satisfied: absl-py>=1.0.0 in c:\\users\\pc\\anaconda3\\lib\\site-packages (from tensorflow-intel==2.18.0->tensorflow) (2.1.0)\n",
      "Requirement already satisfied: astunparse>=1.6.0 in c:\\users\\pc\\anaconda3\\lib\\site-packages (from tensorflow-intel==2.18.0->tensorflow) (1.6.3)\n",
      "Requirement already satisfied: flatbuffers>=24.3.25 in c:\\users\\pc\\anaconda3\\lib\\site-packages (from tensorflow-intel==2.18.0->tensorflow) (24.3.25)\n",
      "Requirement already satisfied: gast!=0.5.0,!=0.5.1,!=0.5.2,>=0.2.1 in c:\\users\\pc\\anaconda3\\lib\\site-packages (from tensorflow-intel==2.18.0->tensorflow) (0.6.0)\n",
      "Requirement already satisfied: google-pasta>=0.1.1 in c:\\users\\pc\\anaconda3\\lib\\site-packages (from tensorflow-intel==2.18.0->tensorflow) (0.2.0)\n",
      "Requirement already satisfied: libclang>=13.0.0 in c:\\users\\pc\\anaconda3\\lib\\site-packages (from tensorflow-intel==2.18.0->tensorflow) (18.1.1)\n",
      "Requirement already satisfied: opt-einsum>=2.3.2 in c:\\users\\pc\\anaconda3\\lib\\site-packages (from tensorflow-intel==2.18.0->tensorflow) (3.4.0)\n",
      "Requirement already satisfied: packaging in c:\\users\\pc\\anaconda3\\lib\\site-packages (from tensorflow-intel==2.18.0->tensorflow) (24.1)\n",
      "Requirement already satisfied: protobuf!=4.21.0,!=4.21.1,!=4.21.2,!=4.21.3,!=4.21.4,!=4.21.5,<6.0.0dev,>=3.20.3 in c:\\users\\pc\\anaconda3\\lib\\site-packages (from tensorflow-intel==2.18.0->tensorflow) (4.25.3)\n",
      "Requirement already satisfied: requests<3,>=2.21.0 in c:\\users\\pc\\anaconda3\\lib\\site-packages (from tensorflow-intel==2.18.0->tensorflow) (2.32.3)\n",
      "Requirement already satisfied: setuptools in c:\\users\\pc\\anaconda3\\lib\\site-packages (from tensorflow-intel==2.18.0->tensorflow) (75.1.0)\n",
      "Requirement already satisfied: six>=1.12.0 in c:\\users\\pc\\anaconda3\\lib\\site-packages (from tensorflow-intel==2.18.0->tensorflow) (1.16.0)\n",
      "Requirement already satisfied: termcolor>=1.1.0 in c:\\users\\pc\\anaconda3\\lib\\site-packages (from tensorflow-intel==2.18.0->tensorflow) (2.5.0)\n",
      "Requirement already satisfied: typing-extensions>=3.6.6 in c:\\users\\pc\\anaconda3\\lib\\site-packages (from tensorflow-intel==2.18.0->tensorflow) (4.11.0)\n",
      "Requirement already satisfied: wrapt>=1.11.0 in c:\\users\\pc\\anaconda3\\lib\\site-packages (from tensorflow-intel==2.18.0->tensorflow) (1.14.1)\n",
      "Requirement already satisfied: grpcio<2.0,>=1.24.3 in c:\\users\\pc\\anaconda3\\lib\\site-packages (from tensorflow-intel==2.18.0->tensorflow) (1.68.0)\n",
      "Requirement already satisfied: tensorboard<2.19,>=2.18 in c:\\users\\pc\\anaconda3\\lib\\site-packages (from tensorflow-intel==2.18.0->tensorflow) (2.18.0)\n",
      "Requirement already satisfied: keras>=3.5.0 in c:\\users\\pc\\anaconda3\\lib\\site-packages (from tensorflow-intel==2.18.0->tensorflow) (3.6.0)\n",
      "Requirement already satisfied: numpy<2.1.0,>=1.26.0 in c:\\users\\pc\\anaconda3\\lib\\site-packages (from tensorflow-intel==2.18.0->tensorflow) (1.26.4)\n",
      "Requirement already satisfied: h5py>=3.11.0 in c:\\users\\pc\\anaconda3\\lib\\site-packages (from tensorflow-intel==2.18.0->tensorflow) (3.11.0)\n",
      "Requirement already satisfied: ml-dtypes<0.5.0,>=0.4.0 in c:\\users\\pc\\anaconda3\\lib\\site-packages (from tensorflow-intel==2.18.0->tensorflow) (0.4.1)\n",
      "Requirement already satisfied: wheel<1.0,>=0.23.0 in c:\\users\\pc\\anaconda3\\lib\\site-packages (from astunparse>=1.6.0->tensorflow-intel==2.18.0->tensorflow) (0.44.0)\n",
      "Requirement already satisfied: rich in c:\\users\\pc\\anaconda3\\lib\\site-packages (from keras>=3.5.0->tensorflow-intel==2.18.0->tensorflow) (13.7.1)\n",
      "Requirement already satisfied: namex in c:\\users\\pc\\anaconda3\\lib\\site-packages (from keras>=3.5.0->tensorflow-intel==2.18.0->tensorflow) (0.0.8)\n",
      "Requirement already satisfied: optree in c:\\users\\pc\\anaconda3\\lib\\site-packages (from keras>=3.5.0->tensorflow-intel==2.18.0->tensorflow) (0.13.1)\n",
      "Requirement already satisfied: charset-normalizer<4,>=2 in c:\\users\\pc\\anaconda3\\lib\\site-packages (from requests<3,>=2.21.0->tensorflow-intel==2.18.0->tensorflow) (3.3.2)\n",
      "Requirement already satisfied: idna<4,>=2.5 in c:\\users\\pc\\anaconda3\\lib\\site-packages (from requests<3,>=2.21.0->tensorflow-intel==2.18.0->tensorflow) (3.7)\n",
      "Requirement already satisfied: urllib3<3,>=1.21.1 in c:\\users\\pc\\anaconda3\\lib\\site-packages (from requests<3,>=2.21.0->tensorflow-intel==2.18.0->tensorflow) (2.2.3)\n",
      "Requirement already satisfied: certifi>=2017.4.17 in c:\\users\\pc\\anaconda3\\lib\\site-packages (from requests<3,>=2.21.0->tensorflow-intel==2.18.0->tensorflow) (2024.8.30)\n",
      "Requirement already satisfied: markdown>=2.6.8 in c:\\users\\pc\\anaconda3\\lib\\site-packages (from tensorboard<2.19,>=2.18->tensorflow-intel==2.18.0->tensorflow) (3.4.1)\n",
      "Requirement already satisfied: tensorboard-data-server<0.8.0,>=0.7.0 in c:\\users\\pc\\anaconda3\\lib\\site-packages (from tensorboard<2.19,>=2.18->tensorflow-intel==2.18.0->tensorflow) (0.7.2)\n",
      "Requirement already satisfied: werkzeug>=1.0.1 in c:\\users\\pc\\anaconda3\\lib\\site-packages (from tensorboard<2.19,>=2.18->tensorflow-intel==2.18.0->tensorflow) (3.0.3)\n",
      "Requirement already satisfied: MarkupSafe>=2.1.1 in c:\\users\\pc\\anaconda3\\lib\\site-packages (from werkzeug>=1.0.1->tensorboard<2.19,>=2.18->tensorflow-intel==2.18.0->tensorflow) (2.1.3)\n",
      "Requirement already satisfied: markdown-it-py>=2.2.0 in c:\\users\\pc\\anaconda3\\lib\\site-packages (from rich->keras>=3.5.0->tensorflow-intel==2.18.0->tensorflow) (2.2.0)\n",
      "Requirement already satisfied: pygments<3.0.0,>=2.13.0 in c:\\users\\pc\\anaconda3\\lib\\site-packages (from rich->keras>=3.5.0->tensorflow-intel==2.18.0->tensorflow) (2.15.1)\n",
      "Requirement already satisfied: mdurl~=0.1 in c:\\users\\pc\\anaconda3\\lib\\site-packages (from markdown-it-py>=2.2.0->rich->keras>=3.5.0->tensorflow-intel==2.18.0->tensorflow) (0.1.0)\n",
      "Note: you may need to restart the kernel to use updated packages.\n"
     ]
    }
   ],
   "source": [
    "pip install tensorflow\n"
   ]
  },
  {
   "attachments": {
    "32a2c2ad-40e3-41b4-843b-19fa5bc69678.png": {
     "image/png": "[encoded data removed]"
    }
   },
   "cell_type": "markdown",
   "metadata": {},
   "source": [
    "_____________________![image.png](attachment:32a2c2ad-40e3-41b4-843b-19fa5bc69678.png)"
   ]
  },
  {
   "cell_type": "code",
   "execution_count": 3,
   "metadata": {},
   "outputs": [],
   "source": [
    "import tensorflow as tf\n",
    "from tensorflow import keras"
   ]
  },
  {
   "cell_type": "code",
   "execution_count": null,
   "metadata": {
    "id": "y_oezUv8c8MJ"
   },
   "outputs": [],
   "source": []
  },
  {
   "attachments": {
    "35d39cff-5be9-4339-8a7b-93d059e86283.png": {
     "image/png": "[encoded data removed]"
    }
   },
   "cell_type": "markdown",
   "metadata": {},
   "source": [
    "__________________![image.png](attachment:35d39cff-5be9-4339-8a7b-93d059e86283.png)"
   ]
  },
  {
   "cell_type": "code",
   "execution_count": 4,
   "metadata": {},
   "outputs": [
    {
     "name": "stdout",
     "output_type": "stream",
     "text": [
      "2.18.0\n"
     ]
    }
   ],
   "source": [
    "print(tf.__version__)\n"
   ]
  },
  {
   "cell_type": "code",
   "execution_count": null,
   "metadata": {
    "colab": {
     "base_uri": "https://localhost:8080/"
    },
    "id": "oUBN_opVdAaP",
    "outputId": "b835da15-c062-4526-d335-2c215c28d49c"
   },
   "outputs": [],
   "source": []
  },
  {
   "attachments": {
    "1565fe56-e25f-426a-b31d-492e53260440.png": {
     "image/png": "[encoded data removed]"
    }
   },
   "cell_type": "markdown",
   "metadata": {},
   "source": [
    "_____________________![image.png](attachment:1565fe56-e25f-426a-b31d-492e53260440.png)"
   ]
  },
  {
   "cell_type": "code",
   "execution_count": 5,
   "metadata": {},
   "outputs": [],
   "source": [
    "from tensorflow.keras.callbacks import EarlyStopping\n",
    "from tensorflow.keras.callbacks import ModelCheckpoint"
   ]
  },
  {
   "cell_type": "code",
   "execution_count": null,
   "metadata": {},
   "outputs": [],
   "source": []
  },
  {
   "attachments": {
    "b64170db-97a0-4e8d-9b75-c05033a49f46.png": {
     "image/png": "[encoded data removed]"
    }
   },
   "cell_type": "markdown",
   "metadata": {},
   "source": [
    "___________________![image.png](attachment:b64170db-97a0-4e8d-9b75-c05033a49f46.png)"
   ]
  },
  {
   "cell_type": "code",
   "execution_count": 6,
   "metadata": {},
   "outputs": [],
   "source": [
    "np.random.seed(19)"
   ]
  },
  {
   "cell_type": "code",
   "execution_count": null,
   "metadata": {
    "id": "bde2CkpTdDej"
   },
   "outputs": [],
   "source": []
  },
  {
   "cell_type": "markdown",
   "metadata": {},
   "source": [
    "<html> <h2 style=\" color:blue;\"> Data </h2> </html>"
   ]
  },
  {
   "cell_type": "code",
   "execution_count": 7,
   "metadata": {},
   "outputs": [],
   "source": [
    "# We use a slightly different normalisation principle for prices.\n",
    "# We use the same principle as in the practical session in Week-6 for Volumes and Deltas.\n",
    "\n",
    "# For normalisation, it is not necessary for the normalised columns' values to be in the range between [0,1].\n",
    "# What is more important is that all the values ​​in these columns are approximately the same order of magnitude, \n",
    "# i.e. do not differ by hundreds or more times."
   ]
  },
  {
   "attachments": {
    "e1d0b29b-673f-4a1a-9cfc-af75e18f3797.png": {
     "image/png": "[encoded data removed]"
    }
   },
   "cell_type": "markdown",
   "metadata": {},
   "source": [
    "_____________________________![image.png](attachment:e1d0b29b-673f-4a1a-9cfc-af75e18f3797.png)"
   ]
  },
  {
   "cell_type": "code",
   "execution_count": 8,
   "metadata": {},
   "outputs": [
    {
     "data": {
      "text/html": [
       "<div>\n",
       "<style scoped>\n",
       "    .dataframe tbody tr th:only-of-type {\n",
       "        vertical-align: middle;\n",
       "    }\n",
       "\n",
       "    .dataframe tbody tr th {\n",
       "        vertical-align: top;\n",
       "    }\n",
       "\n",
       "    .dataframe thead th {\n",
       "        text-align: right;\n",
       "    }\n",
       "</style>\n",
       "<table border=\"1\" class=\"dataframe\">\n",
       "  <thead>\n",
       "    <tr style=\"text-align: right;\">\n",
       "      <th></th>\n",
       "      <th>Open_Bid</th>\n",
       "      <th>High_Bid</th>\n",
       "      <th>Low_Bid</th>\n",
       "      <th>Close_Bid</th>\n",
       "      <th>Volume_Bid</th>\n",
       "      <th>Open_Ask</th>\n",
       "      <th>High_Ask</th>\n",
       "      <th>Low_Ask</th>\n",
       "      <th>Close_Ask</th>\n",
       "      <th>Volume_Ask</th>\n",
       "      <th>Volume_Delta</th>\n",
       "      <th>Volume_Delta_abs</th>\n",
       "      <th>Open_Delta</th>\n",
       "      <th>High_Delta</th>\n",
       "      <th>Low_Delta</th>\n",
       "      <th>Close_Delta</th>\n",
       "      <th>New_day</th>\n",
       "      <th>New_week</th>\n",
       "      <th>Y_High_Bid</th>\n",
       "      <th>Y_Low_Ask</th>\n",
       "    </tr>\n",
       "  </thead>\n",
       "  <tbody>\n",
       "    <tr>\n",
       "      <th>0</th>\n",
       "      <td>1.828604</td>\n",
       "      <td>1.829628</td>\n",
       "      <td>1.828544</td>\n",
       "      <td>1.829504</td>\n",
       "      <td>0.009718</td>\n",
       "      <td>1.829656</td>\n",
       "      <td>1.830936</td>\n",
       "      <td>1.829386</td>\n",
       "      <td>1.830196</td>\n",
       "      <td>0.009050</td>\n",
       "      <td>0.629054</td>\n",
       "      <td>0.000709</td>\n",
       "      <td>0.751830</td>\n",
       "      <td>0.691381</td>\n",
       "      <td>0.801417</td>\n",
       "      <td>0.836836</td>\n",
       "      <td>1.0</td>\n",
       "      <td>1.0</td>\n",
       "      <td>1.829628</td>\n",
       "      <td>1.829386</td>\n",
       "    </tr>\n",
       "    <tr>\n",
       "      <th>1</th>\n",
       "      <td>1.829504</td>\n",
       "      <td>1.830104</td>\n",
       "      <td>1.829398</td>\n",
       "      <td>1.830004</td>\n",
       "      <td>0.007151</td>\n",
       "      <td>1.829936</td>\n",
       "      <td>1.830676</td>\n",
       "      <td>1.829916</td>\n",
       "      <td>1.830632</td>\n",
       "      <td>0.009946</td>\n",
       "      <td>0.631369</td>\n",
       "      <td>0.002969</td>\n",
       "      <td>0.898229</td>\n",
       "      <td>0.865171</td>\n",
       "      <td>0.877922</td>\n",
       "      <td>0.851948</td>\n",
       "      <td>0.0</td>\n",
       "      <td>0.0</td>\n",
       "      <td>1.830104</td>\n",
       "      <td>1.829916</td>\n",
       "    </tr>\n",
       "    <tr>\n",
       "      <th>2</th>\n",
       "      <td>1.830098</td>\n",
       "      <td>1.830604</td>\n",
       "      <td>1.829998</td>\n",
       "      <td>1.830534</td>\n",
       "      <td>0.011126</td>\n",
       "      <td>1.830612</td>\n",
       "      <td>1.831226</td>\n",
       "      <td>1.830516</td>\n",
       "      <td>1.831146</td>\n",
       "      <td>0.016555</td>\n",
       "      <td>0.633130</td>\n",
       "      <td>0.005766</td>\n",
       "      <td>0.878867</td>\n",
       "      <td>0.853365</td>\n",
       "      <td>0.877922</td>\n",
       "      <td>0.855726</td>\n",
       "      <td>0.0</td>\n",
       "      <td>0.0</td>\n",
       "      <td>1.830604</td>\n",
       "      <td>1.830516</td>\n",
       "    </tr>\n",
       "    <tr>\n",
       "      <th>3</th>\n",
       "      <td>1.830534</td>\n",
       "      <td>1.830704</td>\n",
       "      <td>1.830504</td>\n",
       "      <td>1.830674</td>\n",
       "      <td>0.001991</td>\n",
       "      <td>1.831156</td>\n",
       "      <td>1.831306</td>\n",
       "      <td>1.831046</td>\n",
       "      <td>1.831046</td>\n",
       "      <td>0.006808</td>\n",
       "      <td>0.632720</td>\n",
       "      <td>0.005116</td>\n",
       "      <td>0.853365</td>\n",
       "      <td>0.858087</td>\n",
       "      <td>0.872255</td>\n",
       "      <td>0.912397</td>\n",
       "      <td>0.0</td>\n",
       "      <td>0.0</td>\n",
       "      <td>1.830704</td>\n",
       "      <td>1.831046</td>\n",
       "    </tr>\n",
       "    <tr>\n",
       "      <th>4</th>\n",
       "      <td>1.830674</td>\n",
       "      <td>1.830674</td>\n",
       "      <td>1.830448</td>\n",
       "      <td>1.830508</td>\n",
       "      <td>0.006660</td>\n",
       "      <td>1.831026</td>\n",
       "      <td>1.831181</td>\n",
       "      <td>1.830886</td>\n",
       "      <td>1.831086</td>\n",
       "      <td>0.010739</td>\n",
       "      <td>0.632227</td>\n",
       "      <td>0.004332</td>\n",
       "      <td>0.917119</td>\n",
       "      <td>0.880520</td>\n",
       "      <td>0.896812</td>\n",
       "      <td>0.863754</td>\n",
       "      <td>0.0</td>\n",
       "      <td>0.0</td>\n",
       "      <td>1.830674</td>\n",
       "      <td>1.830886</td>\n",
       "    </tr>\n",
       "  </tbody>\n",
       "</table>\n",
       "</div>"
      ],
      "text/plain": [
       "   Open_Bid  High_Bid   Low_Bid  Close_Bid  Volume_Bid  Open_Ask  High_Ask  \\\n",
       "0  1.828604  1.829628  1.828544   1.829504    0.009718  1.829656  1.830936   \n",
       "1  1.829504  1.830104  1.829398   1.830004    0.007151  1.829936  1.830676   \n",
       "2  1.830098  1.830604  1.829998   1.830534    0.011126  1.830612  1.831226   \n",
       "3  1.830534  1.830704  1.830504   1.830674    0.001991  1.831156  1.831306   \n",
       "4  1.830674  1.830674  1.830448   1.830508    0.006660  1.831026  1.831181   \n",
       "\n",
       "    Low_Ask  Close_Ask  Volume_Ask  Volume_Delta  Volume_Delta_abs  \\\n",
       "0  1.829386   1.830196    0.009050      0.629054          0.000709   \n",
       "1  1.829916   1.830632    0.009946      0.631369          0.002969   \n",
       "2  1.830516   1.831146    0.016555      0.633130          0.005766   \n",
       "3  1.831046   1.831046    0.006808      0.632720          0.005116   \n",
       "4  1.830886   1.831086    0.010739      0.632227          0.004332   \n",
       "\n",
       "   Open_Delta  High_Delta  Low_Delta  Close_Delta  New_day  New_week  \\\n",
       "0    0.751830    0.691381   0.801417     0.836836      1.0       1.0   \n",
       "1    0.898229    0.865171   0.877922     0.851948      0.0       0.0   \n",
       "2    0.878867    0.853365   0.877922     0.855726      0.0       0.0   \n",
       "3    0.853365    0.858087   0.872255     0.912397      0.0       0.0   \n",
       "4    0.917119    0.880520   0.896812     0.863754      0.0       0.0   \n",
       "\n",
       "   Y_High_Bid  Y_Low_Ask  \n",
       "0    1.829628   1.829386  \n",
       "1    1.830104   1.829916  \n",
       "2    1.830604   1.830516  \n",
       "3    1.830704   1.831046  \n",
       "4    1.830674   1.830886  "
      ]
     },
     "execution_count": 8,
     "metadata": {},
     "output_type": "execute_result"
    }
   ],
   "source": [
    "data = pd.read_csv('GOLD_2022_normalised_NEW-1000.csv', low_memory=False, sep=',')\n",
    "data.head()"
   ]
  },
  {
   "cell_type": "code",
   "execution_count": null,
   "metadata": {},
   "outputs": [],
   "source": []
  },
  {
   "attachments": {
    "2f2d7f99-0e2f-4660-9f62-4bbeeb6caca1.png": {
     "image/png": "[encoded data removed]"
    }
   },
   "cell_type": "markdown",
   "metadata": {},
   "source": [
    "_____________________________![image.png](attachment:2f2d7f99-0e2f-4660-9f62-4bbeeb6caca1.png)"
   ]
  },
  {
   "cell_type": "code",
   "execution_count": 9,
   "metadata": {},
   "outputs": [
    {
     "data": {
      "text/html": [
       "<div>\n",
       "<style scoped>\n",
       "    .dataframe tbody tr th:only-of-type {\n",
       "        vertical-align: middle;\n",
       "    }\n",
       "\n",
       "    .dataframe tbody tr th {\n",
       "        vertical-align: top;\n",
       "    }\n",
       "\n",
       "    .dataframe thead th {\n",
       "        text-align: right;\n",
       "    }\n",
       "</style>\n",
       "<table border=\"1\" class=\"dataframe\">\n",
       "  <thead>\n",
       "    <tr style=\"text-align: right;\">\n",
       "      <th></th>\n",
       "      <th>Open_Bid</th>\n",
       "      <th>High_Bid</th>\n",
       "      <th>Low_Bid</th>\n",
       "      <th>Close_Bid</th>\n",
       "      <th>Volume_Bid</th>\n",
       "      <th>Open_Ask</th>\n",
       "      <th>High_Ask</th>\n",
       "      <th>Low_Ask</th>\n",
       "      <th>Close_Ask</th>\n",
       "      <th>Volume_Ask</th>\n",
       "      <th>Volume_Delta</th>\n",
       "      <th>Volume_Delta_abs</th>\n",
       "      <th>Open_Delta</th>\n",
       "      <th>High_Delta</th>\n",
       "      <th>Low_Delta</th>\n",
       "      <th>Close_Delta</th>\n",
       "      <th>New_day</th>\n",
       "      <th>New_week</th>\n",
       "      <th>Y_High_Bid</th>\n",
       "      <th>Y_Low_Ask</th>\n",
       "    </tr>\n",
       "  </thead>\n",
       "  <tbody>\n",
       "    <tr>\n",
       "      <th>5675</th>\n",
       "      <td>1.790818</td>\n",
       "      <td>1.790948</td>\n",
       "      <td>1.790768</td>\n",
       "      <td>1.790908</td>\n",
       "      <td>0.013394</td>\n",
       "      <td>1.791175</td>\n",
       "      <td>1.791315</td>\n",
       "      <td>1.791125</td>\n",
       "      <td>1.791305</td>\n",
       "      <td>0.005735</td>\n",
       "      <td>0.624379</td>\n",
       "      <td>0.008135</td>\n",
       "      <td>0.915939</td>\n",
       "      <td>0.913577</td>\n",
       "      <td>0.915939</td>\n",
       "      <td>0.906493</td>\n",
       "      <td>0.0</td>\n",
       "      <td>0.0</td>\n",
       "      <td>1.790948</td>\n",
       "      <td>1.791125</td>\n",
       "    </tr>\n",
       "    <tr>\n",
       "      <th>5676</th>\n",
       "      <td>1.790908</td>\n",
       "      <td>1.791058</td>\n",
       "      <td>1.790808</td>\n",
       "      <td>1.791058</td>\n",
       "      <td>0.011934</td>\n",
       "      <td>1.791285</td>\n",
       "      <td>1.791485</td>\n",
       "      <td>1.791192</td>\n",
       "      <td>1.791485</td>\n",
       "      <td>0.005167</td>\n",
       "      <td>0.624976</td>\n",
       "      <td>0.007188</td>\n",
       "      <td>0.911216</td>\n",
       "      <td>0.899410</td>\n",
       "      <td>0.909563</td>\n",
       "      <td>0.899410</td>\n",
       "      <td>0.0</td>\n",
       "      <td>0.0</td>\n",
       "      <td>1.791058</td>\n",
       "      <td>1.791192</td>\n",
       "    </tr>\n",
       "    <tr>\n",
       "      <th>5677</th>\n",
       "      <td>1.791068</td>\n",
       "      <td>1.791098</td>\n",
       "      <td>1.790998</td>\n",
       "      <td>1.791028</td>\n",
       "      <td>0.008770</td>\n",
       "      <td>1.791485</td>\n",
       "      <td>1.791505</td>\n",
       "      <td>1.791395</td>\n",
       "      <td>1.791445</td>\n",
       "      <td>0.006572</td>\n",
       "      <td>0.628031</td>\n",
       "      <td>0.002334</td>\n",
       "      <td>0.901771</td>\n",
       "      <td>0.904132</td>\n",
       "      <td>0.906493</td>\n",
       "      <td>0.901771</td>\n",
       "      <td>0.0</td>\n",
       "      <td>0.0</td>\n",
       "      <td>1.791098</td>\n",
       "      <td>1.791395</td>\n",
       "    </tr>\n",
       "    <tr>\n",
       "      <th>5678</th>\n",
       "      <td>1.791018</td>\n",
       "      <td>1.791068</td>\n",
       "      <td>1.790998</td>\n",
       "      <td>1.791008</td>\n",
       "      <td>0.005919</td>\n",
       "      <td>1.791445</td>\n",
       "      <td>1.791482</td>\n",
       "      <td>1.791402</td>\n",
       "      <td>1.791422</td>\n",
       "      <td>0.004820</td>\n",
       "      <td>0.628765</td>\n",
       "      <td>0.001167</td>\n",
       "      <td>0.899410</td>\n",
       "      <td>0.902479</td>\n",
       "      <td>0.904841</td>\n",
       "      <td>0.902479</td>\n",
       "      <td>0.0</td>\n",
       "      <td>0.0</td>\n",
       "      <td>1.791068</td>\n",
       "      <td>1.791402</td>\n",
       "    </tr>\n",
       "    <tr>\n",
       "      <th>5679</th>\n",
       "      <td>1.000000</td>\n",
       "      <td>NaN</td>\n",
       "      <td>NaN</td>\n",
       "      <td>NaN</td>\n",
       "      <td>NaN</td>\n",
       "      <td>NaN</td>\n",
       "      <td>NaN</td>\n",
       "      <td>NaN</td>\n",
       "      <td>NaN</td>\n",
       "      <td>NaN</td>\n",
       "      <td>NaN</td>\n",
       "      <td>NaN</td>\n",
       "      <td>NaN</td>\n",
       "      <td>NaN</td>\n",
       "      <td>NaN</td>\n",
       "      <td>NaN</td>\n",
       "      <td>NaN</td>\n",
       "      <td>NaN</td>\n",
       "      <td>NaN</td>\n",
       "      <td>NaN</td>\n",
       "    </tr>\n",
       "  </tbody>\n",
       "</table>\n",
       "</div>"
      ],
      "text/plain": [
       "      Open_Bid  High_Bid   Low_Bid  Close_Bid  Volume_Bid  Open_Ask  High_Ask  \\\n",
       "5675  1.790818  1.790948  1.790768   1.790908    0.013394  1.791175  1.791315   \n",
       "5676  1.790908  1.791058  1.790808   1.791058    0.011934  1.791285  1.791485   \n",
       "5677  1.791068  1.791098  1.790998   1.791028    0.008770  1.791485  1.791505   \n",
       "5678  1.791018  1.791068  1.790998   1.791008    0.005919  1.791445  1.791482   \n",
       "5679  1.000000       NaN       NaN        NaN         NaN       NaN       NaN   \n",
       "\n",
       "       Low_Ask  Close_Ask  Volume_Ask  Volume_Delta  Volume_Delta_abs  \\\n",
       "5675  1.791125   1.791305    0.005735      0.624379          0.008135   \n",
       "5676  1.791192   1.791485    0.005167      0.624976          0.007188   \n",
       "5677  1.791395   1.791445    0.006572      0.628031          0.002334   \n",
       "5678  1.791402   1.791422    0.004820      0.628765          0.001167   \n",
       "5679       NaN        NaN         NaN           NaN               NaN   \n",
       "\n",
       "      Open_Delta  High_Delta  Low_Delta  Close_Delta  New_day  New_week  \\\n",
       "5675    0.915939    0.913577   0.915939     0.906493      0.0       0.0   \n",
       "5676    0.911216    0.899410   0.909563     0.899410      0.0       0.0   \n",
       "5677    0.901771    0.904132   0.906493     0.901771      0.0       0.0   \n",
       "5678    0.899410    0.902479   0.904841     0.902479      0.0       0.0   \n",
       "5679         NaN         NaN        NaN          NaN      NaN       NaN   \n",
       "\n",
       "      Y_High_Bid  Y_Low_Ask  \n",
       "5675    1.790948   1.791125  \n",
       "5676    1.791058   1.791192  \n",
       "5677    1.791098   1.791395  \n",
       "5678    1.791068   1.791402  \n",
       "5679         NaN        NaN  "
      ]
     },
     "execution_count": 9,
     "metadata": {},
     "output_type": "execute_result"
    }
   ],
   "source": [
    "data.tail()"
   ]
  },
  {
   "cell_type": "code",
   "execution_count": null,
   "metadata": {},
   "outputs": [],
   "source": []
  },
  {
   "attachments": {
    "728091c5-6d2a-4256-83c6-b6ee7dd6f4e4.png": {
     "image/png": "[encoded data removed]"
    }
   },
   "cell_type": "markdown",
   "metadata": {},
   "source": [
    "___________________________![image.png](attachment:728091c5-6d2a-4256-83c6-b6ee7dd6f4e4.png)"
   ]
  },
  {
   "cell_type": "code",
   "execution_count": 10,
   "metadata": {},
   "outputs": [
    {
     "name": "stdout",
     "output_type": "stream",
     "text": [
      "<class 'pandas.core.frame.DataFrame'>\n",
      "RangeIndex: 5680 entries, 0 to 5679\n",
      "Data columns (total 20 columns):\n",
      " #   Column            Non-Null Count  Dtype  \n",
      "---  ------            --------------  -----  \n",
      " 0   Open_Bid          5680 non-null   float64\n",
      " 1   High_Bid          5679 non-null   float64\n",
      " 2   Low_Bid           5679 non-null   float64\n",
      " 3   Close_Bid         5679 non-null   float64\n",
      " 4   Volume_Bid        5679 non-null   float64\n",
      " 5   Open_Ask          5679 non-null   float64\n",
      " 6   High_Ask          5679 non-null   float64\n",
      " 7   Low_Ask           5679 non-null   float64\n",
      " 8   Close_Ask         5679 non-null   float64\n",
      " 9   Volume_Ask        5679 non-null   float64\n",
      " 10  Volume_Delta      5679 non-null   float64\n",
      " 11  Volume_Delta_abs  5679 non-null   float64\n",
      " 12  Open_Delta        5679 non-null   float64\n",
      " 13  High_Delta        5679 non-null   float64\n",
      " 14  Low_Delta         5679 non-null   float64\n",
      " 15  Close_Delta       5679 non-null   float64\n",
      " 16  New_day           5679 non-null   float64\n",
      " 17  New_week          5679 non-null   float64\n",
      " 18  Y_High_Bid        5679 non-null   float64\n",
      " 19  Y_Low_Ask         5679 non-null   float64\n",
      "dtypes: float64(20)\n",
      "memory usage: 887.6 KB\n"
     ]
    }
   ],
   "source": [
    "data.info()"
   ]
  },
  {
   "cell_type": "code",
   "execution_count": null,
   "metadata": {},
   "outputs": [],
   "source": []
  },
  {
   "cell_type": "markdown",
   "metadata": {},
   "source": [
    "#### Now just press 'CTRL' and 'ENTER' keys on the next cell."
   ]
  },
  {
   "cell_type": "code",
   "execution_count": 11,
   "metadata": {},
   "outputs": [],
   "source": [
    "# memory size reduction\n",
    "\n",
    "columns_float =['Open_Bid', 'High_Bid', 'Low_Bid', 'Close_Bid', 'Volume_Bid', \n",
    "                'Open_Ask', 'High_Ask', 'Low_Ask', 'Close_Ask', 'Volume_Ask', \n",
    "                'Volume_Delta', 'Volume_Delta_abs', \n",
    "                'Open_Delta', 'High_Delta', 'Low_Delta', 'Close_Delta',\n",
    "                'Y_High_Bid', 'Y_Low_Ask']\n",
    "\n",
    "columns_integer =['New_day', 'New_week']\n",
    "\n"
   ]
  },
  {
   "attachments": {
    "99e84a83-a8b2-47fc-bd3f-bd28c73a7078.png": {
     "image/png": "[encoded data removed]"
    }
   },
   "cell_type": "markdown",
   "metadata": {},
   "source": [
    "_____________________![image.png](attachment:99e84a83-a8b2-47fc-bd3f-bd28c73a7078.png)"
   ]
  },
  {
   "cell_type": "code",
   "execution_count": 12,
   "metadata": {},
   "outputs": [
    {
     "name": "stdout",
     "output_type": "stream",
     "text": [
      "<class 'pandas.core.frame.DataFrame'>\n",
      "RangeIndex: 5680 entries, 0 to 5679\n",
      "Data columns (total 20 columns):\n",
      " #   Column            Non-Null Count  Dtype  \n",
      "---  ------            --------------  -----  \n",
      " 0   Open_Bid          5680 non-null   float32\n",
      " 1   High_Bid          5679 non-null   float32\n",
      " 2   Low_Bid           5679 non-null   float32\n",
      " 3   Close_Bid         5679 non-null   float32\n",
      " 4   Volume_Bid        5679 non-null   float32\n",
      " 5   Open_Ask          5679 non-null   float32\n",
      " 6   High_Ask          5679 non-null   float32\n",
      " 7   Low_Ask           5679 non-null   float32\n",
      " 8   Close_Ask         5679 non-null   float32\n",
      " 9   Volume_Ask        5679 non-null   float32\n",
      " 10  Volume_Delta      5679 non-null   float32\n",
      " 11  Volume_Delta_abs  5679 non-null   float32\n",
      " 12  Open_Delta        5679 non-null   float32\n",
      " 13  High_Delta        5679 non-null   float32\n",
      " 14  Low_Delta         5679 non-null   float32\n",
      " 15  Close_Delta       5679 non-null   float32\n",
      " 16  New_day           5679 non-null   float64\n",
      " 17  New_week          5679 non-null   float64\n",
      " 18  Y_High_Bid        5679 non-null   float32\n",
      " 19  Y_Low_Ask         5679 non-null   float32\n",
      "dtypes: float32(18), float64(2)\n",
      "memory usage: 488.3 KB\n",
      "<class 'pandas.core.frame.DataFrame'>\n",
      "RangeIndex: 5680 entries, 0 to 5679\n",
      "Data columns (total 20 columns):\n",
      " #   Column            Non-Null Count  Dtype  \n",
      "---  ------            --------------  -----  \n",
      " 0   Open_Bid          5680 non-null   float32\n",
      " 1   High_Bid          5679 non-null   float32\n",
      " 2   Low_Bid           5679 non-null   float32\n",
      " 3   Close_Bid         5679 non-null   float32\n",
      " 4   Volume_Bid        5679 non-null   float32\n",
      " 5   Open_Ask          5679 non-null   float32\n",
      " 6   High_Ask          5679 non-null   float32\n",
      " 7   Low_Ask           5679 non-null   float32\n",
      " 8   Close_Ask         5679 non-null   float32\n",
      " 9   Volume_Ask        5679 non-null   float32\n",
      " 10  Volume_Delta      5679 non-null   float32\n",
      " 11  Volume_Delta_abs  5679 non-null   float32\n",
      " 12  Open_Delta        5679 non-null   float32\n",
      " 13  High_Delta        5679 non-null   float32\n",
      " 14  Low_Delta         5679 non-null   float32\n",
      " 15  Close_Delta       5679 non-null   float32\n",
      " 16  New_day           5679 non-null   float64\n",
      " 17  New_week          5679 non-null   float64\n",
      " 18  Y_High_Bid        5679 non-null   float32\n",
      " 19  Y_Low_Ask         5679 non-null   float32\n",
      "dtypes: float32(18), float64(2)\n",
      "memory usage: 488.3 KB\n"
     ]
    }
   ],
   "source": [
    "for column in columns_float:\n",
    "    data[column] = pd.to_numeric(data[column], downcast='float')\n",
    "\n",
    "for column in columns_integer:\n",
    "    data[column] = pd.to_numeric(data[column], downcast='integer')\n",
    "    \n",
    "    data.info()"
   ]
  },
  {
   "cell_type": "code",
   "execution_count": null,
   "metadata": {},
   "outputs": [],
   "source": []
  },
  {
   "attachments": {
    "b4861676-3b86-4f05-8b1b-1fe0fb1192aa.png": {
     "image/png": "[encoded data removed]"
    }
   },
   "cell_type": "markdown",
   "metadata": {},
   "source": [
    "_____________________________![image.png](attachment:b4861676-3b86-4f05-8b1b-1fe0fb1192aa.png)"
   ]
  },
  {
   "cell_type": "code",
   "execution_count": 13,
   "metadata": {},
   "outputs": [
    {
     "data": {
      "text/html": [
       "<div>\n",
       "<style scoped>\n",
       "    .dataframe tbody tr th:only-of-type {\n",
       "        vertical-align: middle;\n",
       "    }\n",
       "\n",
       "    .dataframe tbody tr th {\n",
       "        vertical-align: top;\n",
       "    }\n",
       "\n",
       "    .dataframe thead th {\n",
       "        text-align: right;\n",
       "    }\n",
       "</style>\n",
       "<table border=\"1\" class=\"dataframe\">\n",
       "  <thead>\n",
       "    <tr style=\"text-align: right;\">\n",
       "      <th></th>\n",
       "      <th>Open_Bid</th>\n",
       "      <th>High_Bid</th>\n",
       "      <th>Low_Bid</th>\n",
       "      <th>Close_Bid</th>\n",
       "      <th>Volume_Bid</th>\n",
       "      <th>Open_Ask</th>\n",
       "      <th>High_Ask</th>\n",
       "      <th>Low_Ask</th>\n",
       "      <th>Close_Ask</th>\n",
       "      <th>Volume_Ask</th>\n",
       "      <th>Volume_Delta</th>\n",
       "      <th>Volume_Delta_abs</th>\n",
       "      <th>Open_Delta</th>\n",
       "      <th>High_Delta</th>\n",
       "      <th>Low_Delta</th>\n",
       "      <th>Close_Delta</th>\n",
       "      <th>New_day</th>\n",
       "      <th>New_week</th>\n",
       "      <th>Y_High_Bid</th>\n",
       "      <th>Y_Low_Ask</th>\n",
       "    </tr>\n",
       "  </thead>\n",
       "  <tbody>\n",
       "    <tr>\n",
       "      <th>count</th>\n",
       "      <td>5680.000000</td>\n",
       "      <td>5679.000000</td>\n",
       "      <td>5679.000000</td>\n",
       "      <td>5679.000000</td>\n",
       "      <td>5679.000000</td>\n",
       "      <td>5679.000000</td>\n",
       "      <td>5679.000000</td>\n",
       "      <td>5679.000000</td>\n",
       "      <td>5679.000000</td>\n",
       "      <td>5679.000000</td>\n",
       "      <td>5679.000000</td>\n",
       "      <td>5679.000000</td>\n",
       "      <td>5679.000000</td>\n",
       "      <td>5679.000000</td>\n",
       "      <td>5679.000000</td>\n",
       "      <td>5679.000000</td>\n",
       "      <td>5679.000000</td>\n",
       "      <td>5679.000000</td>\n",
       "      <td>5679.000000</td>\n",
       "      <td>5679.000000</td>\n",
       "    </tr>\n",
       "    <tr>\n",
       "      <th>mean</th>\n",
       "      <td>1.809284</td>\n",
       "      <td>1.809634</td>\n",
       "      <td>1.809208</td>\n",
       "      <td>1.809421</td>\n",
       "      <td>0.010934</td>\n",
       "      <td>1.809778</td>\n",
       "      <td>1.809985</td>\n",
       "      <td>1.809559</td>\n",
       "      <td>1.809772</td>\n",
       "      <td>0.010992</td>\n",
       "      <td>0.629539</td>\n",
       "      <td>0.003984</td>\n",
       "      <td>0.917417</td>\n",
       "      <td>0.917557</td>\n",
       "      <td>0.917381</td>\n",
       "      <td>0.917158</td>\n",
       "      <td>0.000880</td>\n",
       "      <td>0.000176</td>\n",
       "      <td>1.809634</td>\n",
       "      <td>1.809559</td>\n",
       "    </tr>\n",
       "    <tr>\n",
       "      <th>std</th>\n",
       "      <td>0.015600</td>\n",
       "      <td>0.011289</td>\n",
       "      <td>0.011339</td>\n",
       "      <td>0.011315</td>\n",
       "      <td>0.008804</td>\n",
       "      <td>0.011318</td>\n",
       "      <td>0.011293</td>\n",
       "      <td>0.011343</td>\n",
       "      <td>0.011318</td>\n",
       "      <td>0.008484</td>\n",
       "      <td>0.003519</td>\n",
       "      <td>0.003922</td>\n",
       "      <td>0.014223</td>\n",
       "      <td>0.012596</td>\n",
       "      <td>0.012021</td>\n",
       "      <td>0.012301</td>\n",
       "      <td>0.029662</td>\n",
       "      <td>0.013270</td>\n",
       "      <td>0.011289</td>\n",
       "      <td>0.011343</td>\n",
       "    </tr>\n",
       "    <tr>\n",
       "      <th>min</th>\n",
       "      <td>1.000000</td>\n",
       "      <td>1.786738</td>\n",
       "      <td>1.786288</td>\n",
       "      <td>1.786458</td>\n",
       "      <td>0.000092</td>\n",
       "      <td>1.786782</td>\n",
       "      <td>1.787025</td>\n",
       "      <td>1.786592</td>\n",
       "      <td>1.786805</td>\n",
       "      <td>0.000074</td>\n",
       "      <td>0.591459</td>\n",
       "      <td>0.000000</td>\n",
       "      <td>0.539315</td>\n",
       "      <td>0.691381</td>\n",
       "      <td>0.730579</td>\n",
       "      <td>0.779693</td>\n",
       "      <td>0.000000</td>\n",
       "      <td>0.000000</td>\n",
       "      <td>1.786738</td>\n",
       "      <td>1.786592</td>\n",
       "    </tr>\n",
       "    <tr>\n",
       "      <th>25%</th>\n",
       "      <td>1.802106</td>\n",
       "      <td>1.802358</td>\n",
       "      <td>1.801823</td>\n",
       "      <td>1.802077</td>\n",
       "      <td>0.005065</td>\n",
       "      <td>1.802442</td>\n",
       "      <td>1.802684</td>\n",
       "      <td>1.802176</td>\n",
       "      <td>1.802442</td>\n",
       "      <td>0.005080</td>\n",
       "      <td>0.627782</td>\n",
       "      <td>0.001253</td>\n",
       "      <td>0.910508</td>\n",
       "      <td>0.910980</td>\n",
       "      <td>0.910980</td>\n",
       "      <td>0.909563</td>\n",
       "      <td>0.000000</td>\n",
       "      <td>0.000000</td>\n",
       "      <td>1.802358</td>\n",
       "      <td>1.802176</td>\n",
       "    </tr>\n",
       "    <tr>\n",
       "      <th>50%</th>\n",
       "      <td>1.809043</td>\n",
       "      <td>1.809224</td>\n",
       "      <td>1.808844</td>\n",
       "      <td>1.809048</td>\n",
       "      <td>0.008257</td>\n",
       "      <td>1.809422</td>\n",
       "      <td>1.809592</td>\n",
       "      <td>1.809202</td>\n",
       "      <td>1.809432</td>\n",
       "      <td>0.008405</td>\n",
       "      <td>0.629522</td>\n",
       "      <td>0.002871</td>\n",
       "      <td>0.916647</td>\n",
       "      <td>0.918064</td>\n",
       "      <td>0.916647</td>\n",
       "      <td>0.916647</td>\n",
       "      <td>0.000000</td>\n",
       "      <td>0.000000</td>\n",
       "      <td>1.809224</td>\n",
       "      <td>1.809202</td>\n",
       "    </tr>\n",
       "    <tr>\n",
       "      <th>75%</th>\n",
       "      <td>1.817445</td>\n",
       "      <td>1.817731</td>\n",
       "      <td>1.817163</td>\n",
       "      <td>1.817446</td>\n",
       "      <td>0.013708</td>\n",
       "      <td>1.817792</td>\n",
       "      <td>1.818059</td>\n",
       "      <td>1.817492</td>\n",
       "      <td>1.817762</td>\n",
       "      <td>0.014324</td>\n",
       "      <td>0.631391</td>\n",
       "      <td>0.005507</td>\n",
       "      <td>0.925148</td>\n",
       "      <td>0.923967</td>\n",
       "      <td>0.923731</td>\n",
       "      <td>0.923731</td>\n",
       "      <td>0.000000</td>\n",
       "      <td>0.000000</td>\n",
       "      <td>1.817731</td>\n",
       "      <td>1.817492</td>\n",
       "    </tr>\n",
       "    <tr>\n",
       "      <th>max</th>\n",
       "      <td>1.831544</td>\n",
       "      <td>1.831624</td>\n",
       "      <td>1.831319</td>\n",
       "      <td>1.831584</td>\n",
       "      <td>0.074359</td>\n",
       "      <td>1.831916</td>\n",
       "      <td>1.832076</td>\n",
       "      <td>1.831692</td>\n",
       "      <td>1.831956</td>\n",
       "      <td>0.057701</td>\n",
       "      <td>0.649088</td>\n",
       "      <td>0.060430</td>\n",
       "      <td>0.976151</td>\n",
       "      <td>0.976151</td>\n",
       "      <td>0.972845</td>\n",
       "      <td>0.971429</td>\n",
       "      <td>1.000000</td>\n",
       "      <td>1.000000</td>\n",
       "      <td>1.831624</td>\n",
       "      <td>1.831692</td>\n",
       "    </tr>\n",
       "  </tbody>\n",
       "</table>\n",
       "</div>"
      ],
      "text/plain": [
       "          Open_Bid     High_Bid      Low_Bid    Close_Bid   Volume_Bid  \\\n",
       "count  5680.000000  5679.000000  5679.000000  5679.000000  5679.000000   \n",
       "mean      1.809284     1.809634     1.809208     1.809421     0.010934   \n",
       "std       0.015600     0.011289     0.011339     0.011315     0.008804   \n",
       "min       1.000000     1.786738     1.786288     1.786458     0.000092   \n",
       "25%       1.802106     1.802358     1.801823     1.802077     0.005065   \n",
       "50%       1.809043     1.809224     1.808844     1.809048     0.008257   \n",
       "75%       1.817445     1.817731     1.817163     1.817446     0.013708   \n",
       "max       1.831544     1.831624     1.831319     1.831584     0.074359   \n",
       "\n",
       "          Open_Ask     High_Ask      Low_Ask    Close_Ask   Volume_Ask  \\\n",
       "count  5679.000000  5679.000000  5679.000000  5679.000000  5679.000000   \n",
       "mean      1.809778     1.809985     1.809559     1.809772     0.010992   \n",
       "std       0.011318     0.011293     0.011343     0.011318     0.008484   \n",
       "min       1.786782     1.787025     1.786592     1.786805     0.000074   \n",
       "25%       1.802442     1.802684     1.802176     1.802442     0.005080   \n",
       "50%       1.809422     1.809592     1.809202     1.809432     0.008405   \n",
       "75%       1.817792     1.818059     1.817492     1.817762     0.014324   \n",
       "max       1.831916     1.832076     1.831692     1.831956     0.057701   \n",
       "\n",
       "       Volume_Delta  Volume_Delta_abs   Open_Delta   High_Delta    Low_Delta  \\\n",
       "count   5679.000000       5679.000000  5679.000000  5679.000000  5679.000000   \n",
       "mean       0.629539          0.003984     0.917417     0.917557     0.917381   \n",
       "std        0.003519          0.003922     0.014223     0.012596     0.012021   \n",
       "min        0.591459          0.000000     0.539315     0.691381     0.730579   \n",
       "25%        0.627782          0.001253     0.910508     0.910980     0.910980   \n",
       "50%        0.629522          0.002871     0.916647     0.918064     0.916647   \n",
       "75%        0.631391          0.005507     0.925148     0.923967     0.923731   \n",
       "max        0.649088          0.060430     0.976151     0.976151     0.972845   \n",
       "\n",
       "       Close_Delta      New_day     New_week   Y_High_Bid    Y_Low_Ask  \n",
       "count  5679.000000  5679.000000  5679.000000  5679.000000  5679.000000  \n",
       "mean      0.917158     0.000880     0.000176     1.809634     1.809559  \n",
       "std       0.012301     0.029662     0.013270     0.011289     0.011343  \n",
       "min       0.779693     0.000000     0.000000     1.786738     1.786592  \n",
       "25%       0.909563     0.000000     0.000000     1.802358     1.802176  \n",
       "50%       0.916647     0.000000     0.000000     1.809224     1.809202  \n",
       "75%       0.923731     0.000000     0.000000     1.817731     1.817492  \n",
       "max       0.971429     1.000000     1.000000     1.831624     1.831692  "
      ]
     },
     "execution_count": 13,
     "metadata": {},
     "output_type": "execute_result"
    }
   ],
   "source": [
    "data.describe()"
   ]
  },
  {
   "cell_type": "code",
   "execution_count": null,
   "metadata": {},
   "outputs": [],
   "source": []
  },
  {
   "attachments": {
    "9a8db982-8fcb-426d-b321-dc15d076e361.png": {
     "image/png": "[encoded data removed]"
    }
   },
   "cell_type": "markdown",
   "metadata": {},
   "source": [
    "_____________________________![image.png](attachment:9a8db982-8fcb-426d-b321-dc15d076e361.png)"
   ]
  },
  {
   "cell_type": "code",
   "execution_count": 14,
   "metadata": {},
   "outputs": [
    {
     "data": {
      "text/plain": [
       "(5680, 20)"
      ]
     },
     "execution_count": 14,
     "metadata": {},
     "output_type": "execute_result"
    }
   ],
   "source": [
    "data.shape"
   ]
  },
  {
   "cell_type": "code",
   "execution_count": null,
   "metadata": {},
   "outputs": [],
   "source": []
  },
  {
   "cell_type": "markdown",
   "metadata": {},
   "source": [
    "#### Now just press 'CTRL' and 'ENTER' keys on the next cell."
   ]
  },
  {
   "cell_type": "code",
   "execution_count": 15,
   "metadata": {},
   "outputs": [
    {
     "data": {
      "text/plain": [
       "<Figure size 1200x500 with 0 Axes>"
      ]
     },
     "metadata": {},
     "output_type": "display_data"
    },
    {
     "data": {
      "image/png": "[encoded data removed]",
      "text/plain": [
       "<Figure size 1611.38x800 with 1 Axes>"
      ]
     },
     "metadata": {},
     "output_type": "display_data"
    }
   ],
   "source": [
    "fig = plt.figure(figsize=(12, 5))\n",
    "plt.rc('axes', titlesize= 30 ) \n",
    "sns.set_style('whitegrid')\n",
    "sns.set_context(rc={'legend.fontsize': 20.0}) \n",
    "\n",
    "sns.displot( \n",
    "            data[['Open_Delta', 'Close_Delta']],\n",
    "            height=8,\n",
    "            aspect=1.7,\n",
    "            kde=True,\n",
    "            element=\"step\",\n",
    "            bins=100,\n",
    "            alpha=0.03,          \n",
    "                        \n",
    ")\n",
    "\n",
    "plt.title('Open_Delta & Close_Delta Price Distribution')\n",
    "plt.xlabel('Price Delta', size= 20)\n",
    "plt.ylabel('Numbers', size= 20)\n",
    "plt.show();"
   ]
  },
  {
   "cell_type": "markdown",
   "metadata": {},
   "source": [
    "<html> <h3 style=\"font-style:italic; color:blue;\"> Date Transformation </h3> </html>"
   ]
  },
  {
   "cell_type": "code",
   "execution_count": 16,
   "metadata": {},
   "outputs": [],
   "source": [
    "# We will predict the Highest and Lowest prices DURING the next 5 minutes. \n",
    "\n",
    "# To do this in the data output (vector of answers), we shift prices sequentially to 5 minutes up, \n",
    "# and find max and min prices during these 5 minutes\n",
    "# Then you need to delete the 5 last rows since there are no prices for the next 5 minutes. \n",
    "# Therefore, we will create an array of answers \"data_ay\" with the Highest and Lowest prices shifted sequentially to 5 rows up."
   ]
  },
  {
   "attachments": {
    "e304ed0e-c9b9-4162-86a3-a6d8107cbc36.png": {
     "image/png": "[encoded data removed]"
    }
   },
   "cell_type": "markdown",
   "metadata": {},
   "source": [
    "_________________________![image.png](attachment:e304ed0e-c9b9-4162-86a3-a6d8107cbc36.png)"
   ]
  },
  {
   "cell_type": "code",
   "execution_count": 17,
   "metadata": {},
   "outputs": [
    {
     "data": {
      "text/plain": [
       "5680"
      ]
     },
     "execution_count": 17,
     "metadata": {},
     "output_type": "execute_result"
    }
   ],
   "source": [
    "n=data.shape[0]\n",
    "n"
   ]
  },
  {
   "cell_type": "code",
   "execution_count": null,
   "metadata": {},
   "outputs": [],
   "source": []
  },
  {
   "attachments": {
    "feab4059-209e-4467-9622-8e2eafdb304b.png": {
     "image/png": "[encoded data removed]"
    }
   },
   "cell_type": "markdown",
   "metadata": {},
   "source": [
    "_________________________![image.png](attachment:feab4059-209e-4467-9622-8e2eafdb304b.png)"
   ]
  },
  {
   "cell_type": "code",
   "execution_count": 18,
   "metadata": {},
   "outputs": [
    {
     "data": {
      "text/plain": [
       "20"
      ]
     },
     "execution_count": 18,
     "metadata": {},
     "output_type": "execute_result"
    }
   ],
   "source": [
    "p=data.shape[1]\n",
    "p"
   ]
  },
  {
   "cell_type": "code",
   "execution_count": null,
   "metadata": {},
   "outputs": [],
   "source": []
  },
  {
   "attachments": {
    "6761bc27-2115-436c-b09f-07f73ed53e67.png": {
     "image/png": "[encoded data removed]"
    }
   },
   "cell_type": "markdown",
   "metadata": {},
   "source": [
    "__________________![image.png](attachment:6761bc27-2115-436c-b09f-07f73ed53e67.png)"
   ]
  },
  {
   "cell_type": "code",
   "execution_count": 19,
   "metadata": {},
   "outputs": [],
   "source": [
    "data_ax = data.drop(['Y_High_Bid', 'Y_Low_Ask'],axis=1)"
   ]
  },
  {
   "cell_type": "code",
   "execution_count": null,
   "metadata": {},
   "outputs": [],
   "source": []
  },
  {
   "attachments": {
    "6e70d75b-dd41-4216-b55c-b9f5d3e0d0ee.png": {
     "image/png": "[encoded data removed]"
    }
   },
   "cell_type": "markdown",
   "metadata": {},
   "source": [
    "________________![image.png](attachment:6e70d75b-dd41-4216-b55c-b9f5d3e0d0ee.png)"
   ]
  },
  {
   "cell_type": "code",
   "execution_count": 20,
   "metadata": {},
   "outputs": [
    {
     "name": "stdout",
     "output_type": "stream",
     "text": [
      "<class 'pandas.core.frame.DataFrame'>\n",
      "RangeIndex: 5680 entries, 0 to 5679\n",
      "Data columns (total 18 columns):\n",
      " #   Column            Non-Null Count  Dtype  \n",
      "---  ------            --------------  -----  \n",
      " 0   Open_Bid          5680 non-null   float32\n",
      " 1   High_Bid          5679 non-null   float32\n",
      " 2   Low_Bid           5679 non-null   float32\n",
      " 3   Close_Bid         5679 non-null   float32\n",
      " 4   Volume_Bid        5679 non-null   float32\n",
      " 5   Open_Ask          5679 non-null   float32\n",
      " 6   High_Ask          5679 non-null   float32\n",
      " 7   Low_Ask           5679 non-null   float32\n",
      " 8   Close_Ask         5679 non-null   float32\n",
      " 9   Volume_Ask        5679 non-null   float32\n",
      " 10  Volume_Delta      5679 non-null   float32\n",
      " 11  Volume_Delta_abs  5679 non-null   float32\n",
      " 12  Open_Delta        5679 non-null   float32\n",
      " 13  High_Delta        5679 non-null   float32\n",
      " 14  Low_Delta         5679 non-null   float32\n",
      " 15  Close_Delta       5679 non-null   float32\n",
      " 16  New_day           5679 non-null   float64\n",
      " 17  New_week          5679 non-null   float64\n",
      "dtypes: float32(16), float64(2)\n",
      "memory usage: 443.9 KB\n"
     ]
    }
   ],
   "source": [
    "data_ax.info()"
   ]
  },
  {
   "cell_type": "code",
   "execution_count": null,
   "metadata": {},
   "outputs": [],
   "source": []
  },
  {
   "attachments": {
    "f4e8e693-899b-4e74-bab9-8fd0ac8be78c.png": {
     "image/png": "[encoded data removed]"
    }
   },
   "cell_type": "markdown",
   "metadata": {},
   "source": [
    "__________________________![image.png](attachment:f4e8e693-899b-4e74-bab9-8fd0ac8be78c.png)"
   ]
  },
  {
   "cell_type": "code",
   "execution_count": 21,
   "metadata": {},
   "outputs": [
    {
     "data": {
      "text/plain": [
       "(5680, 18)"
      ]
     },
     "execution_count": 21,
     "metadata": {},
     "output_type": "execute_result"
    }
   ],
   "source": [
    "data_ax.shape"
   ]
  },
  {
   "cell_type": "code",
   "execution_count": null,
   "metadata": {},
   "outputs": [],
   "source": []
  },
  {
   "attachments": {
    "585dd4f1-9c19-4ebf-b27a-777e9e310457.png": {
     "image/png": "[encoded data removed]"
    }
   },
   "cell_type": "markdown",
   "metadata": {},
   "source": [
    "__________________________![image.png](attachment:585dd4f1-9c19-4ebf-b27a-777e9e310457.png)"
   ]
  },
  {
   "cell_type": "code",
   "execution_count": 22,
   "metadata": {},
   "outputs": [],
   "source": [
    "data_ay = data[['Y_High_Bid', 'Y_Low_Ask']]"
   ]
  },
  {
   "cell_type": "code",
   "execution_count": null,
   "metadata": {},
   "outputs": [],
   "source": []
  },
  {
   "attachments": {
    "71ad9fd4-6414-454b-9cb1-0e1fbb82c4c9.png": {
     "image/png": "[encoded data removed]"
    }
   },
   "cell_type": "markdown",
   "metadata": {},
   "source": [
    "________________![image.png](attachment:71ad9fd4-6414-454b-9cb1-0e1fbb82c4c9.png)"
   ]
  },
  {
   "cell_type": "code",
   "execution_count": 23,
   "metadata": {},
   "outputs": [
    {
     "data": {
      "text/plain": [
       "(5680, 2)"
      ]
     },
     "execution_count": 23,
     "metadata": {},
     "output_type": "execute_result"
    }
   ],
   "source": [
    "data_ay.shape"
   ]
  },
  {
   "cell_type": "code",
   "execution_count": null,
   "metadata": {},
   "outputs": [],
   "source": []
  },
  {
   "attachments": {
    "2a3e72cf-e549-416e-b1de-8de35e46841c.png": {
     "image/png": "[encoded data removed]"
    }
   },
   "cell_type": "markdown",
   "metadata": {},
   "source": [
    "___________________![image.png](attachment:2a3e72cf-e549-416e-b1de-8de35e46841c.png)"
   ]
  },
  {
   "cell_type": "code",
   "execution_count": 24,
   "metadata": {},
   "outputs": [
    {
     "data": {
      "text/html": [
       "<div>\n",
       "<style scoped>\n",
       "    .dataframe tbody tr th:only-of-type {\n",
       "        vertical-align: middle;\n",
       "    }\n",
       "\n",
       "    .dataframe tbody tr th {\n",
       "        vertical-align: top;\n",
       "    }\n",
       "\n",
       "    .dataframe thead th {\n",
       "        text-align: right;\n",
       "    }\n",
       "</style>\n",
       "<table border=\"1\" class=\"dataframe\">\n",
       "  <thead>\n",
       "    <tr style=\"text-align: right;\">\n",
       "      <th></th>\n",
       "      <th>Y_High_Bid</th>\n",
       "      <th>Y_Low_Ask</th>\n",
       "    </tr>\n",
       "  </thead>\n",
       "  <tbody>\n",
       "    <tr>\n",
       "      <th>0</th>\n",
       "      <td>1.829628</td>\n",
       "      <td>1.829386</td>\n",
       "    </tr>\n",
       "    <tr>\n",
       "      <th>1</th>\n",
       "      <td>1.830104</td>\n",
       "      <td>1.829916</td>\n",
       "    </tr>\n",
       "    <tr>\n",
       "      <th>2</th>\n",
       "      <td>1.830604</td>\n",
       "      <td>1.830516</td>\n",
       "    </tr>\n",
       "    <tr>\n",
       "      <th>3</th>\n",
       "      <td>1.830704</td>\n",
       "      <td>1.831046</td>\n",
       "    </tr>\n",
       "    <tr>\n",
       "      <th>4</th>\n",
       "      <td>1.830674</td>\n",
       "      <td>1.830886</td>\n",
       "    </tr>\n",
       "    <tr>\n",
       "      <th>5</th>\n",
       "      <td>1.830568</td>\n",
       "      <td>1.830046</td>\n",
       "    </tr>\n",
       "  </tbody>\n",
       "</table>\n",
       "</div>"
      ],
      "text/plain": [
       "   Y_High_Bid  Y_Low_Ask\n",
       "0    1.829628   1.829386\n",
       "1    1.830104   1.829916\n",
       "2    1.830604   1.830516\n",
       "3    1.830704   1.831046\n",
       "4    1.830674   1.830886\n",
       "5    1.830568   1.830046"
      ]
     },
     "execution_count": 24,
     "metadata": {},
     "output_type": "execute_result"
    }
   ],
   "source": [
    "data_ay.head(6)"
   ]
  },
  {
   "cell_type": "code",
   "execution_count": null,
   "metadata": {},
   "outputs": [],
   "source": []
  },
  {
   "attachments": {
    "37fbba51-5971-4d8d-9ed0-07d57ca94359.png": {
     "image/png": "[encoded data removed]"
    }
   },
   "cell_type": "markdown",
   "metadata": {},
   "source": [
    "_________________________![image.png](attachment:37fbba51-5971-4d8d-9ed0-07d57ca94359.png)"
   ]
  },
  {
   "cell_type": "code",
   "execution_count": 25,
   "metadata": {},
   "outputs": [
    {
     "data": {
      "text/html": [
       "<div>\n",
       "<style scoped>\n",
       "    .dataframe tbody tr th:only-of-type {\n",
       "        vertical-align: middle;\n",
       "    }\n",
       "\n",
       "    .dataframe tbody tr th {\n",
       "        vertical-align: top;\n",
       "    }\n",
       "\n",
       "    .dataframe thead th {\n",
       "        text-align: right;\n",
       "    }\n",
       "</style>\n",
       "<table border=\"1\" class=\"dataframe\">\n",
       "  <thead>\n",
       "    <tr style=\"text-align: right;\">\n",
       "      <th></th>\n",
       "      <th>Y_High_Bid</th>\n",
       "      <th>Y_Low_Ask</th>\n",
       "    </tr>\n",
       "  </thead>\n",
       "  <tbody>\n",
       "    <tr>\n",
       "      <th>5670</th>\n",
       "      <td>1.791028</td>\n",
       "      <td>1.791132</td>\n",
       "    </tr>\n",
       "    <tr>\n",
       "      <th>5671</th>\n",
       "      <td>1.791138</td>\n",
       "      <td>1.791145</td>\n",
       "    </tr>\n",
       "    <tr>\n",
       "      <th>5672</th>\n",
       "      <td>1.791018</td>\n",
       "      <td>1.790955</td>\n",
       "    </tr>\n",
       "    <tr>\n",
       "      <th>5673</th>\n",
       "      <td>1.790818</td>\n",
       "      <td>1.790995</td>\n",
       "    </tr>\n",
       "    <tr>\n",
       "      <th>5674</th>\n",
       "      <td>1.790948</td>\n",
       "      <td>1.791025</td>\n",
       "    </tr>\n",
       "    <tr>\n",
       "      <th>5675</th>\n",
       "      <td>1.790948</td>\n",
       "      <td>1.791125</td>\n",
       "    </tr>\n",
       "    <tr>\n",
       "      <th>5676</th>\n",
       "      <td>1.791058</td>\n",
       "      <td>1.791192</td>\n",
       "    </tr>\n",
       "    <tr>\n",
       "      <th>5677</th>\n",
       "      <td>1.791098</td>\n",
       "      <td>1.791395</td>\n",
       "    </tr>\n",
       "    <tr>\n",
       "      <th>5678</th>\n",
       "      <td>1.791068</td>\n",
       "      <td>1.791402</td>\n",
       "    </tr>\n",
       "    <tr>\n",
       "      <th>5679</th>\n",
       "      <td>NaN</td>\n",
       "      <td>NaN</td>\n",
       "    </tr>\n",
       "  </tbody>\n",
       "</table>\n",
       "</div>"
      ],
      "text/plain": [
       "      Y_High_Bid  Y_Low_Ask\n",
       "5670    1.791028   1.791132\n",
       "5671    1.791138   1.791145\n",
       "5672    1.791018   1.790955\n",
       "5673    1.790818   1.790995\n",
       "5674    1.790948   1.791025\n",
       "5675    1.790948   1.791125\n",
       "5676    1.791058   1.791192\n",
       "5677    1.791098   1.791395\n",
       "5678    1.791068   1.791402\n",
       "5679         NaN        NaN"
      ]
     },
     "execution_count": 25,
     "metadata": {},
     "output_type": "execute_result"
    }
   ],
   "source": [
    "data_ay.tail(10)"
   ]
  },
  {
   "cell_type": "code",
   "execution_count": null,
   "metadata": {},
   "outputs": [],
   "source": []
  },
  {
   "attachments": {
    "c2336e2d-3c9f-46d7-8154-d7169e0f2b52.png": {
     "image/png": "[encoded data removed]"
    }
   },
   "cell_type": "markdown",
   "metadata": {},
   "source": [
    "______________________![image.png](attachment:c2336e2d-3c9f-46d7-8154-d7169e0f2b52.png)"
   ]
  },
  {
   "cell_type": "code",
   "execution_count": 26,
   "metadata": {},
   "outputs": [],
   "source": [
    "data_ay = data.shift(-1)"
   ]
  },
  {
   "cell_type": "code",
   "execution_count": null,
   "metadata": {},
   "outputs": [],
   "source": []
  },
  {
   "attachments": {
    "9f5def32-1021-4d98-9c49-426d4e61d5e9.png": {
     "image/png": "[encoded data removed]"
    }
   },
   "cell_type": "markdown",
   "metadata": {},
   "source": [
    "____________________![image.png](attachment:9f5def32-1021-4d98-9c49-426d4e61d5e9.png)"
   ]
  },
  {
   "cell_type": "code",
   "execution_count": 27,
   "metadata": {},
   "outputs": [
    {
     "data": {
      "text/html": [
       "<div>\n",
       "<style scoped>\n",
       "    .dataframe tbody tr th:only-of-type {\n",
       "        vertical-align: middle;\n",
       "    }\n",
       "\n",
       "    .dataframe tbody tr th {\n",
       "        vertical-align: top;\n",
       "    }\n",
       "\n",
       "    .dataframe thead th {\n",
       "        text-align: right;\n",
       "    }\n",
       "</style>\n",
       "<table border=\"1\" class=\"dataframe\">\n",
       "  <thead>\n",
       "    <tr style=\"text-align: right;\">\n",
       "      <th></th>\n",
       "      <th>Open_Bid</th>\n",
       "      <th>High_Bid</th>\n",
       "      <th>Low_Bid</th>\n",
       "      <th>Close_Bid</th>\n",
       "      <th>Volume_Bid</th>\n",
       "      <th>Open_Ask</th>\n",
       "      <th>High_Ask</th>\n",
       "      <th>Low_Ask</th>\n",
       "      <th>Close_Ask</th>\n",
       "      <th>Volume_Ask</th>\n",
       "      <th>Volume_Delta</th>\n",
       "      <th>Volume_Delta_abs</th>\n",
       "      <th>Open_Delta</th>\n",
       "      <th>High_Delta</th>\n",
       "      <th>Low_Delta</th>\n",
       "      <th>Close_Delta</th>\n",
       "      <th>New_day</th>\n",
       "      <th>New_week</th>\n",
       "      <th>Y_High_Bid</th>\n",
       "      <th>Y_Low_Ask</th>\n",
       "    </tr>\n",
       "  </thead>\n",
       "  <tbody>\n",
       "    <tr>\n",
       "      <th>0</th>\n",
       "      <td>1.829504</td>\n",
       "      <td>1.830104</td>\n",
       "      <td>1.829398</td>\n",
       "      <td>1.830004</td>\n",
       "      <td>0.007151</td>\n",
       "      <td>1.829936</td>\n",
       "      <td>1.830676</td>\n",
       "      <td>1.829916</td>\n",
       "      <td>1.830632</td>\n",
       "      <td>0.009946</td>\n",
       "      <td>0.631369</td>\n",
       "      <td>0.002969</td>\n",
       "      <td>0.898229</td>\n",
       "      <td>0.865171</td>\n",
       "      <td>0.877922</td>\n",
       "      <td>0.851948</td>\n",
       "      <td>0.0</td>\n",
       "      <td>0.0</td>\n",
       "      <td>1.830104</td>\n",
       "      <td>1.829916</td>\n",
       "    </tr>\n",
       "    <tr>\n",
       "      <th>1</th>\n",
       "      <td>1.830098</td>\n",
       "      <td>1.830604</td>\n",
       "      <td>1.829998</td>\n",
       "      <td>1.830534</td>\n",
       "      <td>0.011126</td>\n",
       "      <td>1.830612</td>\n",
       "      <td>1.831226</td>\n",
       "      <td>1.830516</td>\n",
       "      <td>1.831146</td>\n",
       "      <td>0.016555</td>\n",
       "      <td>0.633130</td>\n",
       "      <td>0.005766</td>\n",
       "      <td>0.878867</td>\n",
       "      <td>0.853365</td>\n",
       "      <td>0.877922</td>\n",
       "      <td>0.855726</td>\n",
       "      <td>0.0</td>\n",
       "      <td>0.0</td>\n",
       "      <td>1.830604</td>\n",
       "      <td>1.830516</td>\n",
       "    </tr>\n",
       "    <tr>\n",
       "      <th>2</th>\n",
       "      <td>1.830534</td>\n",
       "      <td>1.830704</td>\n",
       "      <td>1.830504</td>\n",
       "      <td>1.830674</td>\n",
       "      <td>0.001991</td>\n",
       "      <td>1.831156</td>\n",
       "      <td>1.831306</td>\n",
       "      <td>1.831046</td>\n",
       "      <td>1.831046</td>\n",
       "      <td>0.006808</td>\n",
       "      <td>0.632720</td>\n",
       "      <td>0.005116</td>\n",
       "      <td>0.853365</td>\n",
       "      <td>0.858087</td>\n",
       "      <td>0.872255</td>\n",
       "      <td>0.912397</td>\n",
       "      <td>0.0</td>\n",
       "      <td>0.0</td>\n",
       "      <td>1.830704</td>\n",
       "      <td>1.831046</td>\n",
       "    </tr>\n",
       "    <tr>\n",
       "      <th>3</th>\n",
       "      <td>1.830674</td>\n",
       "      <td>1.830674</td>\n",
       "      <td>1.830448</td>\n",
       "      <td>1.830508</td>\n",
       "      <td>0.006660</td>\n",
       "      <td>1.831026</td>\n",
       "      <td>1.831181</td>\n",
       "      <td>1.830886</td>\n",
       "      <td>1.831086</td>\n",
       "      <td>0.010739</td>\n",
       "      <td>0.632227</td>\n",
       "      <td>0.004332</td>\n",
       "      <td>0.917119</td>\n",
       "      <td>0.880520</td>\n",
       "      <td>0.896812</td>\n",
       "      <td>0.863754</td>\n",
       "      <td>0.0</td>\n",
       "      <td>0.0</td>\n",
       "      <td>1.830674</td>\n",
       "      <td>1.830886</td>\n",
       "    </tr>\n",
       "    <tr>\n",
       "      <th>4</th>\n",
       "      <td>1.830508</td>\n",
       "      <td>1.830568</td>\n",
       "      <td>1.829584</td>\n",
       "      <td>1.829744</td>\n",
       "      <td>0.004145</td>\n",
       "      <td>1.830966</td>\n",
       "      <td>1.831096</td>\n",
       "      <td>1.830046</td>\n",
       "      <td>1.830136</td>\n",
       "      <td>0.009128</td>\n",
       "      <td>0.632831</td>\n",
       "      <td>0.005292</td>\n",
       "      <td>0.892090</td>\n",
       "      <td>0.875561</td>\n",
       "      <td>0.891145</td>\n",
       "      <td>0.907674</td>\n",
       "      <td>0.0</td>\n",
       "      <td>0.0</td>\n",
       "      <td>1.830568</td>\n",
       "      <td>1.830046</td>\n",
       "    </tr>\n",
       "    <tr>\n",
       "      <th>5</th>\n",
       "      <td>1.829744</td>\n",
       "      <td>1.830244</td>\n",
       "      <td>1.829614</td>\n",
       "      <td>1.829938</td>\n",
       "      <td>0.007697</td>\n",
       "      <td>1.830076</td>\n",
       "      <td>1.830566</td>\n",
       "      <td>1.830076</td>\n",
       "      <td>1.830436</td>\n",
       "      <td>0.006070</td>\n",
       "      <td>0.628413</td>\n",
       "      <td>0.001727</td>\n",
       "      <td>0.921842</td>\n",
       "      <td>0.924203</td>\n",
       "      <td>0.891145</td>\n",
       "      <td>0.882645</td>\n",
       "      <td>0.0</td>\n",
       "      <td>0.0</td>\n",
       "      <td>1.830244</td>\n",
       "      <td>1.830076</td>\n",
       "    </tr>\n",
       "  </tbody>\n",
       "</table>\n",
       "</div>"
      ],
      "text/plain": [
       "   Open_Bid  High_Bid   Low_Bid  Close_Bid  Volume_Bid  Open_Ask  High_Ask  \\\n",
       "0  1.829504  1.830104  1.829398   1.830004    0.007151  1.829936  1.830676   \n",
       "1  1.830098  1.830604  1.829998   1.830534    0.011126  1.830612  1.831226   \n",
       "2  1.830534  1.830704  1.830504   1.830674    0.001991  1.831156  1.831306   \n",
       "3  1.830674  1.830674  1.830448   1.830508    0.006660  1.831026  1.831181   \n",
       "4  1.830508  1.830568  1.829584   1.829744    0.004145  1.830966  1.831096   \n",
       "5  1.829744  1.830244  1.829614   1.829938    0.007697  1.830076  1.830566   \n",
       "\n",
       "    Low_Ask  Close_Ask  Volume_Ask  Volume_Delta  Volume_Delta_abs  \\\n",
       "0  1.829916   1.830632    0.009946      0.631369          0.002969   \n",
       "1  1.830516   1.831146    0.016555      0.633130          0.005766   \n",
       "2  1.831046   1.831046    0.006808      0.632720          0.005116   \n",
       "3  1.830886   1.831086    0.010739      0.632227          0.004332   \n",
       "4  1.830046   1.830136    0.009128      0.632831          0.005292   \n",
       "5  1.830076   1.830436    0.006070      0.628413          0.001727   \n",
       "\n",
       "   Open_Delta  High_Delta  Low_Delta  Close_Delta  New_day  New_week  \\\n",
       "0    0.898229    0.865171   0.877922     0.851948      0.0       0.0   \n",
       "1    0.878867    0.853365   0.877922     0.855726      0.0       0.0   \n",
       "2    0.853365    0.858087   0.872255     0.912397      0.0       0.0   \n",
       "3    0.917119    0.880520   0.896812     0.863754      0.0       0.0   \n",
       "4    0.892090    0.875561   0.891145     0.907674      0.0       0.0   \n",
       "5    0.921842    0.924203   0.891145     0.882645      0.0       0.0   \n",
       "\n",
       "   Y_High_Bid  Y_Low_Ask  \n",
       "0    1.830104   1.829916  \n",
       "1    1.830604   1.830516  \n",
       "2    1.830704   1.831046  \n",
       "3    1.830674   1.830886  \n",
       "4    1.830568   1.830046  \n",
       "5    1.830244   1.830076  "
      ]
     },
     "execution_count": 27,
     "metadata": {},
     "output_type": "execute_result"
    }
   ],
   "source": [
    "data_ay.head(6)"
   ]
  },
  {
   "cell_type": "code",
   "execution_count": null,
   "metadata": {},
   "outputs": [],
   "source": []
  },
  {
   "attachments": {
    "fc142207-1818-4a9d-aa15-b0b8d03b3018.png": {
     "image/png": "[encoded data removed]"
    }
   },
   "cell_type": "markdown",
   "metadata": {},
   "source": [
    "____________________![image.png](attachment:fc142207-1818-4a9d-aa15-b0b8d03b3018.png)"
   ]
  },
  {
   "cell_type": "code",
   "execution_count": 28,
   "metadata": {},
   "outputs": [
    {
     "data": {
      "text/html": [
       "<div>\n",
       "<style scoped>\n",
       "    .dataframe tbody tr th:only-of-type {\n",
       "        vertical-align: middle;\n",
       "    }\n",
       "\n",
       "    .dataframe tbody tr th {\n",
       "        vertical-align: top;\n",
       "    }\n",
       "\n",
       "    .dataframe thead th {\n",
       "        text-align: right;\n",
       "    }\n",
       "</style>\n",
       "<table border=\"1\" class=\"dataframe\">\n",
       "  <thead>\n",
       "    <tr style=\"text-align: right;\">\n",
       "      <th></th>\n",
       "      <th>Open_Bid</th>\n",
       "      <th>High_Bid</th>\n",
       "      <th>Low_Bid</th>\n",
       "      <th>Close_Bid</th>\n",
       "      <th>Volume_Bid</th>\n",
       "      <th>Open_Ask</th>\n",
       "      <th>High_Ask</th>\n",
       "      <th>Low_Ask</th>\n",
       "      <th>Close_Ask</th>\n",
       "      <th>Volume_Ask</th>\n",
       "      <th>Volume_Delta</th>\n",
       "      <th>Volume_Delta_abs</th>\n",
       "      <th>Open_Delta</th>\n",
       "      <th>High_Delta</th>\n",
       "      <th>Low_Delta</th>\n",
       "      <th>Close_Delta</th>\n",
       "      <th>New_day</th>\n",
       "      <th>New_week</th>\n",
       "      <th>Y_High_Bid</th>\n",
       "      <th>Y_Low_Ask</th>\n",
       "    </tr>\n",
       "  </thead>\n",
       "  <tbody>\n",
       "    <tr>\n",
       "      <th>5670</th>\n",
       "      <td>1.791018</td>\n",
       "      <td>1.791138</td>\n",
       "      <td>1.790918</td>\n",
       "      <td>1.791058</td>\n",
       "      <td>0.004757</td>\n",
       "      <td>1.791245</td>\n",
       "      <td>1.791422</td>\n",
       "      <td>1.791145</td>\n",
       "      <td>1.791345</td>\n",
       "      <td>0.003780</td>\n",
       "      <td>0.628847</td>\n",
       "      <td>0.001038</td>\n",
       "      <td>0.946635</td>\n",
       "      <td>0.933176</td>\n",
       "      <td>0.946635</td>\n",
       "      <td>0.932468</td>\n",
       "      <td>0.0</td>\n",
       "      <td>0.0</td>\n",
       "      <td>1.791138</td>\n",
       "      <td>1.791145</td>\n",
       "    </tr>\n",
       "    <tr>\n",
       "      <th>5671</th>\n",
       "      <td>1.791018</td>\n",
       "      <td>1.791018</td>\n",
       "      <td>1.790588</td>\n",
       "      <td>1.790688</td>\n",
       "      <td>0.007357</td>\n",
       "      <td>1.791345</td>\n",
       "      <td>1.791345</td>\n",
       "      <td>1.790955</td>\n",
       "      <td>1.791075</td>\n",
       "      <td>0.004333</td>\n",
       "      <td>0.627478</td>\n",
       "      <td>0.003212</td>\n",
       "      <td>0.923022</td>\n",
       "      <td>0.923022</td>\n",
       "      <td>0.913577</td>\n",
       "      <td>0.908855</td>\n",
       "      <td>0.0</td>\n",
       "      <td>0.0</td>\n",
       "      <td>1.791018</td>\n",
       "      <td>1.790955</td>\n",
       "    </tr>\n",
       "    <tr>\n",
       "      <th>5672</th>\n",
       "      <td>1.790685</td>\n",
       "      <td>1.790818</td>\n",
       "      <td>1.790685</td>\n",
       "      <td>1.790698</td>\n",
       "      <td>0.013660</td>\n",
       "      <td>1.791075</td>\n",
       "      <td>1.791225</td>\n",
       "      <td>1.790995</td>\n",
       "      <td>1.791095</td>\n",
       "      <td>0.007498</td>\n",
       "      <td>0.625380</td>\n",
       "      <td>0.006545</td>\n",
       "      <td>0.908146</td>\n",
       "      <td>0.904132</td>\n",
       "      <td>0.927037</td>\n",
       "      <td>0.906493</td>\n",
       "      <td>0.0</td>\n",
       "      <td>0.0</td>\n",
       "      <td>1.790818</td>\n",
       "      <td>1.790995</td>\n",
       "    </tr>\n",
       "    <tr>\n",
       "      <th>5673</th>\n",
       "      <td>1.790648</td>\n",
       "      <td>1.790948</td>\n",
       "      <td>1.790648</td>\n",
       "      <td>1.790818</td>\n",
       "      <td>0.010783</td>\n",
       "      <td>1.791032</td>\n",
       "      <td>1.791325</td>\n",
       "      <td>1.791025</td>\n",
       "      <td>1.791222</td>\n",
       "      <td>0.004241</td>\n",
       "      <td>0.625126</td>\n",
       "      <td>0.006949</td>\n",
       "      <td>0.909563</td>\n",
       "      <td>0.911216</td>\n",
       "      <td>0.911216</td>\n",
       "      <td>0.904841</td>\n",
       "      <td>0.0</td>\n",
       "      <td>0.0</td>\n",
       "      <td>1.790948</td>\n",
       "      <td>1.791025</td>\n",
       "    </tr>\n",
       "    <tr>\n",
       "      <th>5674</th>\n",
       "      <td>1.790818</td>\n",
       "      <td>1.790948</td>\n",
       "      <td>1.790768</td>\n",
       "      <td>1.790908</td>\n",
       "      <td>0.013394</td>\n",
       "      <td>1.791175</td>\n",
       "      <td>1.791315</td>\n",
       "      <td>1.791125</td>\n",
       "      <td>1.791305</td>\n",
       "      <td>0.005735</td>\n",
       "      <td>0.624379</td>\n",
       "      <td>0.008135</td>\n",
       "      <td>0.915939</td>\n",
       "      <td>0.913577</td>\n",
       "      <td>0.915939</td>\n",
       "      <td>0.906493</td>\n",
       "      <td>0.0</td>\n",
       "      <td>0.0</td>\n",
       "      <td>1.790948</td>\n",
       "      <td>1.791125</td>\n",
       "    </tr>\n",
       "    <tr>\n",
       "      <th>5675</th>\n",
       "      <td>1.790908</td>\n",
       "      <td>1.791058</td>\n",
       "      <td>1.790808</td>\n",
       "      <td>1.791058</td>\n",
       "      <td>0.011934</td>\n",
       "      <td>1.791285</td>\n",
       "      <td>1.791485</td>\n",
       "      <td>1.791192</td>\n",
       "      <td>1.791485</td>\n",
       "      <td>0.005167</td>\n",
       "      <td>0.624976</td>\n",
       "      <td>0.007188</td>\n",
       "      <td>0.911216</td>\n",
       "      <td>0.899410</td>\n",
       "      <td>0.909563</td>\n",
       "      <td>0.899410</td>\n",
       "      <td>0.0</td>\n",
       "      <td>0.0</td>\n",
       "      <td>1.791058</td>\n",
       "      <td>1.791192</td>\n",
       "    </tr>\n",
       "    <tr>\n",
       "      <th>5676</th>\n",
       "      <td>1.791068</td>\n",
       "      <td>1.791098</td>\n",
       "      <td>1.790998</td>\n",
       "      <td>1.791028</td>\n",
       "      <td>0.008770</td>\n",
       "      <td>1.791485</td>\n",
       "      <td>1.791505</td>\n",
       "      <td>1.791395</td>\n",
       "      <td>1.791445</td>\n",
       "      <td>0.006572</td>\n",
       "      <td>0.628031</td>\n",
       "      <td>0.002334</td>\n",
       "      <td>0.901771</td>\n",
       "      <td>0.904132</td>\n",
       "      <td>0.906493</td>\n",
       "      <td>0.901771</td>\n",
       "      <td>0.0</td>\n",
       "      <td>0.0</td>\n",
       "      <td>1.791098</td>\n",
       "      <td>1.791395</td>\n",
       "    </tr>\n",
       "    <tr>\n",
       "      <th>5677</th>\n",
       "      <td>1.791018</td>\n",
       "      <td>1.791068</td>\n",
       "      <td>1.790998</td>\n",
       "      <td>1.791008</td>\n",
       "      <td>0.005919</td>\n",
       "      <td>1.791445</td>\n",
       "      <td>1.791482</td>\n",
       "      <td>1.791402</td>\n",
       "      <td>1.791422</td>\n",
       "      <td>0.004820</td>\n",
       "      <td>0.628765</td>\n",
       "      <td>0.001167</td>\n",
       "      <td>0.899410</td>\n",
       "      <td>0.902479</td>\n",
       "      <td>0.904841</td>\n",
       "      <td>0.902479</td>\n",
       "      <td>0.0</td>\n",
       "      <td>0.0</td>\n",
       "      <td>1.791068</td>\n",
       "      <td>1.791402</td>\n",
       "    </tr>\n",
       "    <tr>\n",
       "      <th>5678</th>\n",
       "      <td>1.000000</td>\n",
       "      <td>NaN</td>\n",
       "      <td>NaN</td>\n",
       "      <td>NaN</td>\n",
       "      <td>NaN</td>\n",
       "      <td>NaN</td>\n",
       "      <td>NaN</td>\n",
       "      <td>NaN</td>\n",
       "      <td>NaN</td>\n",
       "      <td>NaN</td>\n",
       "      <td>NaN</td>\n",
       "      <td>NaN</td>\n",
       "      <td>NaN</td>\n",
       "      <td>NaN</td>\n",
       "      <td>NaN</td>\n",
       "      <td>NaN</td>\n",
       "      <td>NaN</td>\n",
       "      <td>NaN</td>\n",
       "      <td>NaN</td>\n",
       "      <td>NaN</td>\n",
       "    </tr>\n",
       "    <tr>\n",
       "      <th>5679</th>\n",
       "      <td>NaN</td>\n",
       "      <td>NaN</td>\n",
       "      <td>NaN</td>\n",
       "      <td>NaN</td>\n",
       "      <td>NaN</td>\n",
       "      <td>NaN</td>\n",
       "      <td>NaN</td>\n",
       "      <td>NaN</td>\n",
       "      <td>NaN</td>\n",
       "      <td>NaN</td>\n",
       "      <td>NaN</td>\n",
       "      <td>NaN</td>\n",
       "      <td>NaN</td>\n",
       "      <td>NaN</td>\n",
       "      <td>NaN</td>\n",
       "      <td>NaN</td>\n",
       "      <td>NaN</td>\n",
       "      <td>NaN</td>\n",
       "      <td>NaN</td>\n",
       "      <td>NaN</td>\n",
       "    </tr>\n",
       "  </tbody>\n",
       "</table>\n",
       "</div>"
      ],
      "text/plain": [
       "      Open_Bid  High_Bid   Low_Bid  Close_Bid  Volume_Bid  Open_Ask  High_Ask  \\\n",
       "5670  1.791018  1.791138  1.790918   1.791058    0.004757  1.791245  1.791422   \n",
       "5671  1.791018  1.791018  1.790588   1.790688    0.007357  1.791345  1.791345   \n",
       "5672  1.790685  1.790818  1.790685   1.790698    0.013660  1.791075  1.791225   \n",
       "5673  1.790648  1.790948  1.790648   1.790818    0.010783  1.791032  1.791325   \n",
       "5674  1.790818  1.790948  1.790768   1.790908    0.013394  1.791175  1.791315   \n",
       "5675  1.790908  1.791058  1.790808   1.791058    0.011934  1.791285  1.791485   \n",
       "5676  1.791068  1.791098  1.790998   1.791028    0.008770  1.791485  1.791505   \n",
       "5677  1.791018  1.791068  1.790998   1.791008    0.005919  1.791445  1.791482   \n",
       "5678  1.000000       NaN       NaN        NaN         NaN       NaN       NaN   \n",
       "5679       NaN       NaN       NaN        NaN         NaN       NaN       NaN   \n",
       "\n",
       "       Low_Ask  Close_Ask  Volume_Ask  Volume_Delta  Volume_Delta_abs  \\\n",
       "5670  1.791145   1.791345    0.003780      0.628847          0.001038   \n",
       "5671  1.790955   1.791075    0.004333      0.627478          0.003212   \n",
       "5672  1.790995   1.791095    0.007498      0.625380          0.006545   \n",
       "5673  1.791025   1.791222    0.004241      0.625126          0.006949   \n",
       "5674  1.791125   1.791305    0.005735      0.624379          0.008135   \n",
       "5675  1.791192   1.791485    0.005167      0.624976          0.007188   \n",
       "5676  1.791395   1.791445    0.006572      0.628031          0.002334   \n",
       "5677  1.791402   1.791422    0.004820      0.628765          0.001167   \n",
       "5678       NaN        NaN         NaN           NaN               NaN   \n",
       "5679       NaN        NaN         NaN           NaN               NaN   \n",
       "\n",
       "      Open_Delta  High_Delta  Low_Delta  Close_Delta  New_day  New_week  \\\n",
       "5670    0.946635    0.933176   0.946635     0.932468      0.0       0.0   \n",
       "5671    0.923022    0.923022   0.913577     0.908855      0.0       0.0   \n",
       "5672    0.908146    0.904132   0.927037     0.906493      0.0       0.0   \n",
       "5673    0.909563    0.911216   0.911216     0.904841      0.0       0.0   \n",
       "5674    0.915939    0.913577   0.915939     0.906493      0.0       0.0   \n",
       "5675    0.911216    0.899410   0.909563     0.899410      0.0       0.0   \n",
       "5676    0.901771    0.904132   0.906493     0.901771      0.0       0.0   \n",
       "5677    0.899410    0.902479   0.904841     0.902479      0.0       0.0   \n",
       "5678         NaN         NaN        NaN          NaN      NaN       NaN   \n",
       "5679         NaN         NaN        NaN          NaN      NaN       NaN   \n",
       "\n",
       "      Y_High_Bid  Y_Low_Ask  \n",
       "5670    1.791138   1.791145  \n",
       "5671    1.791018   1.790955  \n",
       "5672    1.790818   1.790995  \n",
       "5673    1.790948   1.791025  \n",
       "5674    1.790948   1.791125  \n",
       "5675    1.791058   1.791192  \n",
       "5676    1.791098   1.791395  \n",
       "5677    1.791068   1.791402  \n",
       "5678         NaN        NaN  \n",
       "5679         NaN        NaN  "
      ]
     },
     "execution_count": 28,
     "metadata": {},
     "output_type": "execute_result"
    }
   ],
   "source": [
    "data_ay.tail(10)"
   ]
  },
  {
   "cell_type": "code",
   "execution_count": null,
   "metadata": {},
   "outputs": [],
   "source": []
  },
  {
   "cell_type": "markdown",
   "metadata": {},
   "source": [
    "#### Now just press 'CTRL' and 'ENTER' keys on the next cell."
   ]
  },
  {
   "cell_type": "code",
   "execution_count": 29,
   "metadata": {},
   "outputs": [],
   "source": [
    "# create new colomns: MIN_Lowest(Low_Ask) and MAX_Highest(High_Bid) prices of DURING NEXT 5 minutes\n",
    "\n",
    "# Forward-looking window\n",
    "indexer = pd.api.indexers.FixedForwardWindowIndexer(window_size=5)\n",
    "\n",
    "data_ay['Y_High_Bid_5'] = data_ay['Y_High_Bid'].rolling(window=indexer).max()\n",
    "data_ay['Y_Low_Ask_5']  = data_ay['Y_Low_Ask'].rolling(window=indexer).min()"
   ]
  },
  {
   "attachments": {
    "31f0c5af-51c3-4aff-8652-b2fd4d2c000f.png": {
     "image/png": "[encoded data removed]"
    }
   },
   "cell_type": "markdown",
   "metadata": {},
   "source": [
    "___________________![image.png](attachment:31f0c5af-51c3-4aff-8652-b2fd4d2c000f.png)"
   ]
  },
  {
   "cell_type": "code",
   "execution_count": 30,
   "metadata": {},
   "outputs": [
    {
     "data": {
      "text/html": [
       "<div>\n",
       "<style scoped>\n",
       "    .dataframe tbody tr th:only-of-type {\n",
       "        vertical-align: middle;\n",
       "    }\n",
       "\n",
       "    .dataframe tbody tr th {\n",
       "        vertical-align: top;\n",
       "    }\n",
       "\n",
       "    .dataframe thead th {\n",
       "        text-align: right;\n",
       "    }\n",
       "</style>\n",
       "<table border=\"1\" class=\"dataframe\">\n",
       "  <thead>\n",
       "    <tr style=\"text-align: right;\">\n",
       "      <th></th>\n",
       "      <th>Open_Bid</th>\n",
       "      <th>High_Bid</th>\n",
       "      <th>Low_Bid</th>\n",
       "      <th>Close_Bid</th>\n",
       "      <th>Volume_Bid</th>\n",
       "      <th>Open_Ask</th>\n",
       "      <th>High_Ask</th>\n",
       "      <th>Low_Ask</th>\n",
       "      <th>Close_Ask</th>\n",
       "      <th>Volume_Ask</th>\n",
       "      <th>...</th>\n",
       "      <th>Open_Delta</th>\n",
       "      <th>High_Delta</th>\n",
       "      <th>Low_Delta</th>\n",
       "      <th>Close_Delta</th>\n",
       "      <th>New_day</th>\n",
       "      <th>New_week</th>\n",
       "      <th>Y_High_Bid</th>\n",
       "      <th>Y_Low_Ask</th>\n",
       "      <th>Y_High_Bid_5</th>\n",
       "      <th>Y_Low_Ask_5</th>\n",
       "    </tr>\n",
       "  </thead>\n",
       "  <tbody>\n",
       "    <tr>\n",
       "      <th>0</th>\n",
       "      <td>1.829504</td>\n",
       "      <td>1.830104</td>\n",
       "      <td>1.829398</td>\n",
       "      <td>1.830004</td>\n",
       "      <td>0.007151</td>\n",
       "      <td>1.829936</td>\n",
       "      <td>1.830676</td>\n",
       "      <td>1.829916</td>\n",
       "      <td>1.830632</td>\n",
       "      <td>0.009946</td>\n",
       "      <td>...</td>\n",
       "      <td>0.898229</td>\n",
       "      <td>0.865171</td>\n",
       "      <td>0.877922</td>\n",
       "      <td>0.851948</td>\n",
       "      <td>0.0</td>\n",
       "      <td>0.0</td>\n",
       "      <td>1.830104</td>\n",
       "      <td>1.829916</td>\n",
       "      <td>1.830704</td>\n",
       "      <td>1.829916</td>\n",
       "    </tr>\n",
       "    <tr>\n",
       "      <th>1</th>\n",
       "      <td>1.830098</td>\n",
       "      <td>1.830604</td>\n",
       "      <td>1.829998</td>\n",
       "      <td>1.830534</td>\n",
       "      <td>0.011126</td>\n",
       "      <td>1.830612</td>\n",
       "      <td>1.831226</td>\n",
       "      <td>1.830516</td>\n",
       "      <td>1.831146</td>\n",
       "      <td>0.016555</td>\n",
       "      <td>...</td>\n",
       "      <td>0.878867</td>\n",
       "      <td>0.853365</td>\n",
       "      <td>0.877922</td>\n",
       "      <td>0.855726</td>\n",
       "      <td>0.0</td>\n",
       "      <td>0.0</td>\n",
       "      <td>1.830604</td>\n",
       "      <td>1.830516</td>\n",
       "      <td>1.830704</td>\n",
       "      <td>1.830046</td>\n",
       "    </tr>\n",
       "    <tr>\n",
       "      <th>2</th>\n",
       "      <td>1.830534</td>\n",
       "      <td>1.830704</td>\n",
       "      <td>1.830504</td>\n",
       "      <td>1.830674</td>\n",
       "      <td>0.001991</td>\n",
       "      <td>1.831156</td>\n",
       "      <td>1.831306</td>\n",
       "      <td>1.831046</td>\n",
       "      <td>1.831046</td>\n",
       "      <td>0.006808</td>\n",
       "      <td>...</td>\n",
       "      <td>0.853365</td>\n",
       "      <td>0.858087</td>\n",
       "      <td>0.872255</td>\n",
       "      <td>0.912397</td>\n",
       "      <td>0.0</td>\n",
       "      <td>0.0</td>\n",
       "      <td>1.830704</td>\n",
       "      <td>1.831046</td>\n",
       "      <td>1.830704</td>\n",
       "      <td>1.829896</td>\n",
       "    </tr>\n",
       "    <tr>\n",
       "      <th>3</th>\n",
       "      <td>1.830674</td>\n",
       "      <td>1.830674</td>\n",
       "      <td>1.830448</td>\n",
       "      <td>1.830508</td>\n",
       "      <td>0.006660</td>\n",
       "      <td>1.831026</td>\n",
       "      <td>1.831181</td>\n",
       "      <td>1.830886</td>\n",
       "      <td>1.831086</td>\n",
       "      <td>0.010739</td>\n",
       "      <td>...</td>\n",
       "      <td>0.917119</td>\n",
       "      <td>0.880520</td>\n",
       "      <td>0.896812</td>\n",
       "      <td>0.863754</td>\n",
       "      <td>0.0</td>\n",
       "      <td>0.0</td>\n",
       "      <td>1.830674</td>\n",
       "      <td>1.830886</td>\n",
       "      <td>1.830968</td>\n",
       "      <td>1.829896</td>\n",
       "    </tr>\n",
       "    <tr>\n",
       "      <th>4</th>\n",
       "      <td>1.830508</td>\n",
       "      <td>1.830568</td>\n",
       "      <td>1.829584</td>\n",
       "      <td>1.829744</td>\n",
       "      <td>0.004145</td>\n",
       "      <td>1.830966</td>\n",
       "      <td>1.831096</td>\n",
       "      <td>1.830046</td>\n",
       "      <td>1.830136</td>\n",
       "      <td>0.009128</td>\n",
       "      <td>...</td>\n",
       "      <td>0.892090</td>\n",
       "      <td>0.875561</td>\n",
       "      <td>0.891145</td>\n",
       "      <td>0.907674</td>\n",
       "      <td>0.0</td>\n",
       "      <td>0.0</td>\n",
       "      <td>1.830568</td>\n",
       "      <td>1.830046</td>\n",
       "      <td>1.831624</td>\n",
       "      <td>1.829896</td>\n",
       "    </tr>\n",
       "    <tr>\n",
       "      <th>5</th>\n",
       "      <td>1.829744</td>\n",
       "      <td>1.830244</td>\n",
       "      <td>1.829614</td>\n",
       "      <td>1.829938</td>\n",
       "      <td>0.007697</td>\n",
       "      <td>1.830076</td>\n",
       "      <td>1.830566</td>\n",
       "      <td>1.830076</td>\n",
       "      <td>1.830436</td>\n",
       "      <td>0.006070</td>\n",
       "      <td>...</td>\n",
       "      <td>0.921842</td>\n",
       "      <td>0.924203</td>\n",
       "      <td>0.891145</td>\n",
       "      <td>0.882645</td>\n",
       "      <td>0.0</td>\n",
       "      <td>0.0</td>\n",
       "      <td>1.830244</td>\n",
       "      <td>1.830076</td>\n",
       "      <td>1.831624</td>\n",
       "      <td>1.829896</td>\n",
       "    </tr>\n",
       "  </tbody>\n",
       "</table>\n",
       "<p>6 rows × 22 columns</p>\n",
       "</div>"
      ],
      "text/plain": [
       "   Open_Bid  High_Bid   Low_Bid  Close_Bid  Volume_Bid  Open_Ask  High_Ask  \\\n",
       "0  1.829504  1.830104  1.829398   1.830004    0.007151  1.829936  1.830676   \n",
       "1  1.830098  1.830604  1.829998   1.830534    0.011126  1.830612  1.831226   \n",
       "2  1.830534  1.830704  1.830504   1.830674    0.001991  1.831156  1.831306   \n",
       "3  1.830674  1.830674  1.830448   1.830508    0.006660  1.831026  1.831181   \n",
       "4  1.830508  1.830568  1.829584   1.829744    0.004145  1.830966  1.831096   \n",
       "5  1.829744  1.830244  1.829614   1.829938    0.007697  1.830076  1.830566   \n",
       "\n",
       "    Low_Ask  Close_Ask  Volume_Ask  ...  Open_Delta  High_Delta  Low_Delta  \\\n",
       "0  1.829916   1.830632    0.009946  ...    0.898229    0.865171   0.877922   \n",
       "1  1.830516   1.831146    0.016555  ...    0.878867    0.853365   0.877922   \n",
       "2  1.831046   1.831046    0.006808  ...    0.853365    0.858087   0.872255   \n",
       "3  1.830886   1.831086    0.010739  ...    0.917119    0.880520   0.896812   \n",
       "4  1.830046   1.830136    0.009128  ...    0.892090    0.875561   0.891145   \n",
       "5  1.830076   1.830436    0.006070  ...    0.921842    0.924203   0.891145   \n",
       "\n",
       "   Close_Delta  New_day  New_week  Y_High_Bid  Y_Low_Ask  Y_High_Bid_5  \\\n",
       "0     0.851948      0.0       0.0    1.830104   1.829916      1.830704   \n",
       "1     0.855726      0.0       0.0    1.830604   1.830516      1.830704   \n",
       "2     0.912397      0.0       0.0    1.830704   1.831046      1.830704   \n",
       "3     0.863754      0.0       0.0    1.830674   1.830886      1.830968   \n",
       "4     0.907674      0.0       0.0    1.830568   1.830046      1.831624   \n",
       "5     0.882645      0.0       0.0    1.830244   1.830076      1.831624   \n",
       "\n",
       "   Y_Low_Ask_5  \n",
       "0     1.829916  \n",
       "1     1.830046  \n",
       "2     1.829896  \n",
       "3     1.829896  \n",
       "4     1.829896  \n",
       "5     1.829896  \n",
       "\n",
       "[6 rows x 22 columns]"
      ]
     },
     "execution_count": 30,
     "metadata": {},
     "output_type": "execute_result"
    }
   ],
   "source": [
    "data_ay.head(6)"
   ]
  },
  {
   "cell_type": "code",
   "execution_count": null,
   "metadata": {},
   "outputs": [],
   "source": []
  },
  {
   "attachments": {
    "d38764a0-5d98-42e7-93e7-84226f43af79.png": {
     "image/png": "[encoded data removed]"
    }
   },
   "cell_type": "markdown",
   "metadata": {},
   "source": [
    "_______________________![image.png](attachment:d38764a0-5d98-42e7-93e7-84226f43af79.png)"
   ]
  },
  {
   "cell_type": "code",
   "execution_count": 31,
   "metadata": {},
   "outputs": [
    {
     "data": {
      "text/html": [
       "<div>\n",
       "<style scoped>\n",
       "    .dataframe tbody tr th:only-of-type {\n",
       "        vertical-align: middle;\n",
       "    }\n",
       "\n",
       "    .dataframe tbody tr th {\n",
       "        vertical-align: top;\n",
       "    }\n",
       "\n",
       "    .dataframe thead th {\n",
       "        text-align: right;\n",
       "    }\n",
       "</style>\n",
       "<table border=\"1\" class=\"dataframe\">\n",
       "  <thead>\n",
       "    <tr style=\"text-align: right;\">\n",
       "      <th></th>\n",
       "      <th>Open_Bid</th>\n",
       "      <th>High_Bid</th>\n",
       "      <th>Low_Bid</th>\n",
       "      <th>Close_Bid</th>\n",
       "      <th>Volume_Bid</th>\n",
       "      <th>Open_Ask</th>\n",
       "      <th>High_Ask</th>\n",
       "      <th>Low_Ask</th>\n",
       "      <th>Close_Ask</th>\n",
       "      <th>Volume_Ask</th>\n",
       "      <th>...</th>\n",
       "      <th>Open_Delta</th>\n",
       "      <th>High_Delta</th>\n",
       "      <th>Low_Delta</th>\n",
       "      <th>Close_Delta</th>\n",
       "      <th>New_day</th>\n",
       "      <th>New_week</th>\n",
       "      <th>Y_High_Bid</th>\n",
       "      <th>Y_Low_Ask</th>\n",
       "      <th>Y_High_Bid_5</th>\n",
       "      <th>Y_Low_Ask_5</th>\n",
       "    </tr>\n",
       "  </thead>\n",
       "  <tbody>\n",
       "    <tr>\n",
       "      <th>5670</th>\n",
       "      <td>1.791018</td>\n",
       "      <td>1.791138</td>\n",
       "      <td>1.790918</td>\n",
       "      <td>1.791058</td>\n",
       "      <td>0.004757</td>\n",
       "      <td>1.791245</td>\n",
       "      <td>1.791422</td>\n",
       "      <td>1.791145</td>\n",
       "      <td>1.791345</td>\n",
       "      <td>0.003780</td>\n",
       "      <td>...</td>\n",
       "      <td>0.946635</td>\n",
       "      <td>0.933176</td>\n",
       "      <td>0.946635</td>\n",
       "      <td>0.932468</td>\n",
       "      <td>0.0</td>\n",
       "      <td>0.0</td>\n",
       "      <td>1.791138</td>\n",
       "      <td>1.791145</td>\n",
       "      <td>1.791138</td>\n",
       "      <td>1.790955</td>\n",
       "    </tr>\n",
       "    <tr>\n",
       "      <th>5671</th>\n",
       "      <td>1.791018</td>\n",
       "      <td>1.791018</td>\n",
       "      <td>1.790588</td>\n",
       "      <td>1.790688</td>\n",
       "      <td>0.007357</td>\n",
       "      <td>1.791345</td>\n",
       "      <td>1.791345</td>\n",
       "      <td>1.790955</td>\n",
       "      <td>1.791075</td>\n",
       "      <td>0.004333</td>\n",
       "      <td>...</td>\n",
       "      <td>0.923022</td>\n",
       "      <td>0.923022</td>\n",
       "      <td>0.913577</td>\n",
       "      <td>0.908855</td>\n",
       "      <td>0.0</td>\n",
       "      <td>0.0</td>\n",
       "      <td>1.791018</td>\n",
       "      <td>1.790955</td>\n",
       "      <td>1.791058</td>\n",
       "      <td>1.790955</td>\n",
       "    </tr>\n",
       "    <tr>\n",
       "      <th>5672</th>\n",
       "      <td>1.790685</td>\n",
       "      <td>1.790818</td>\n",
       "      <td>1.790685</td>\n",
       "      <td>1.790698</td>\n",
       "      <td>0.013660</td>\n",
       "      <td>1.791075</td>\n",
       "      <td>1.791225</td>\n",
       "      <td>1.790995</td>\n",
       "      <td>1.791095</td>\n",
       "      <td>0.007498</td>\n",
       "      <td>...</td>\n",
       "      <td>0.908146</td>\n",
       "      <td>0.904132</td>\n",
       "      <td>0.927037</td>\n",
       "      <td>0.906493</td>\n",
       "      <td>0.0</td>\n",
       "      <td>0.0</td>\n",
       "      <td>1.790818</td>\n",
       "      <td>1.790995</td>\n",
       "      <td>1.791098</td>\n",
       "      <td>1.790995</td>\n",
       "    </tr>\n",
       "    <tr>\n",
       "      <th>5673</th>\n",
       "      <td>1.790648</td>\n",
       "      <td>1.790948</td>\n",
       "      <td>1.790648</td>\n",
       "      <td>1.790818</td>\n",
       "      <td>0.010783</td>\n",
       "      <td>1.791032</td>\n",
       "      <td>1.791325</td>\n",
       "      <td>1.791025</td>\n",
       "      <td>1.791222</td>\n",
       "      <td>0.004241</td>\n",
       "      <td>...</td>\n",
       "      <td>0.909563</td>\n",
       "      <td>0.911216</td>\n",
       "      <td>0.911216</td>\n",
       "      <td>0.904841</td>\n",
       "      <td>0.0</td>\n",
       "      <td>0.0</td>\n",
       "      <td>1.790948</td>\n",
       "      <td>1.791025</td>\n",
       "      <td>1.791098</td>\n",
       "      <td>1.791025</td>\n",
       "    </tr>\n",
       "    <tr>\n",
       "      <th>5674</th>\n",
       "      <td>1.790818</td>\n",
       "      <td>1.790948</td>\n",
       "      <td>1.790768</td>\n",
       "      <td>1.790908</td>\n",
       "      <td>0.013394</td>\n",
       "      <td>1.791175</td>\n",
       "      <td>1.791315</td>\n",
       "      <td>1.791125</td>\n",
       "      <td>1.791305</td>\n",
       "      <td>0.005735</td>\n",
       "      <td>...</td>\n",
       "      <td>0.915939</td>\n",
       "      <td>0.913577</td>\n",
       "      <td>0.915939</td>\n",
       "      <td>0.906493</td>\n",
       "      <td>0.0</td>\n",
       "      <td>0.0</td>\n",
       "      <td>1.790948</td>\n",
       "      <td>1.791125</td>\n",
       "      <td>NaN</td>\n",
       "      <td>NaN</td>\n",
       "    </tr>\n",
       "    <tr>\n",
       "      <th>5675</th>\n",
       "      <td>1.790908</td>\n",
       "      <td>1.791058</td>\n",
       "      <td>1.790808</td>\n",
       "      <td>1.791058</td>\n",
       "      <td>0.011934</td>\n",
       "      <td>1.791285</td>\n",
       "      <td>1.791485</td>\n",
       "      <td>1.791192</td>\n",
       "      <td>1.791485</td>\n",
       "      <td>0.005167</td>\n",
       "      <td>...</td>\n",
       "      <td>0.911216</td>\n",
       "      <td>0.899410</td>\n",
       "      <td>0.909563</td>\n",
       "      <td>0.899410</td>\n",
       "      <td>0.0</td>\n",
       "      <td>0.0</td>\n",
       "      <td>1.791058</td>\n",
       "      <td>1.791192</td>\n",
       "      <td>NaN</td>\n",
       "      <td>NaN</td>\n",
       "    </tr>\n",
       "    <tr>\n",
       "      <th>5676</th>\n",
       "      <td>1.791068</td>\n",
       "      <td>1.791098</td>\n",
       "      <td>1.790998</td>\n",
       "      <td>1.791028</td>\n",
       "      <td>0.008770</td>\n",
       "      <td>1.791485</td>\n",
       "      <td>1.791505</td>\n",
       "      <td>1.791395</td>\n",
       "      <td>1.791445</td>\n",
       "      <td>0.006572</td>\n",
       "      <td>...</td>\n",
       "      <td>0.901771</td>\n",
       "      <td>0.904132</td>\n",
       "      <td>0.906493</td>\n",
       "      <td>0.901771</td>\n",
       "      <td>0.0</td>\n",
       "      <td>0.0</td>\n",
       "      <td>1.791098</td>\n",
       "      <td>1.791395</td>\n",
       "      <td>NaN</td>\n",
       "      <td>NaN</td>\n",
       "    </tr>\n",
       "    <tr>\n",
       "      <th>5677</th>\n",
       "      <td>1.791018</td>\n",
       "      <td>1.791068</td>\n",
       "      <td>1.790998</td>\n",
       "      <td>1.791008</td>\n",
       "      <td>0.005919</td>\n",
       "      <td>1.791445</td>\n",
       "      <td>1.791482</td>\n",
       "      <td>1.791402</td>\n",
       "      <td>1.791422</td>\n",
       "      <td>0.004820</td>\n",
       "      <td>...</td>\n",
       "      <td>0.899410</td>\n",
       "      <td>0.902479</td>\n",
       "      <td>0.904841</td>\n",
       "      <td>0.902479</td>\n",
       "      <td>0.0</td>\n",
       "      <td>0.0</td>\n",
       "      <td>1.791068</td>\n",
       "      <td>1.791402</td>\n",
       "      <td>NaN</td>\n",
       "      <td>NaN</td>\n",
       "    </tr>\n",
       "    <tr>\n",
       "      <th>5678</th>\n",
       "      <td>1.000000</td>\n",
       "      <td>NaN</td>\n",
       "      <td>NaN</td>\n",
       "      <td>NaN</td>\n",
       "      <td>NaN</td>\n",
       "      <td>NaN</td>\n",
       "      <td>NaN</td>\n",
       "      <td>NaN</td>\n",
       "      <td>NaN</td>\n",
       "      <td>NaN</td>\n",
       "      <td>...</td>\n",
       "      <td>NaN</td>\n",
       "      <td>NaN</td>\n",
       "      <td>NaN</td>\n",
       "      <td>NaN</td>\n",
       "      <td>NaN</td>\n",
       "      <td>NaN</td>\n",
       "      <td>NaN</td>\n",
       "      <td>NaN</td>\n",
       "      <td>NaN</td>\n",
       "      <td>NaN</td>\n",
       "    </tr>\n",
       "    <tr>\n",
       "      <th>5679</th>\n",
       "      <td>NaN</td>\n",
       "      <td>NaN</td>\n",
       "      <td>NaN</td>\n",
       "      <td>NaN</td>\n",
       "      <td>NaN</td>\n",
       "      <td>NaN</td>\n",
       "      <td>NaN</td>\n",
       "      <td>NaN</td>\n",
       "      <td>NaN</td>\n",
       "      <td>NaN</td>\n",
       "      <td>...</td>\n",
       "      <td>NaN</td>\n",
       "      <td>NaN</td>\n",
       "      <td>NaN</td>\n",
       "      <td>NaN</td>\n",
       "      <td>NaN</td>\n",
       "      <td>NaN</td>\n",
       "      <td>NaN</td>\n",
       "      <td>NaN</td>\n",
       "      <td>NaN</td>\n",
       "      <td>NaN</td>\n",
       "    </tr>\n",
       "  </tbody>\n",
       "</table>\n",
       "<p>10 rows × 22 columns</p>\n",
       "</div>"
      ],
      "text/plain": [
       "      Open_Bid  High_Bid   Low_Bid  Close_Bid  Volume_Bid  Open_Ask  High_Ask  \\\n",
       "5670  1.791018  1.791138  1.790918   1.791058    0.004757  1.791245  1.791422   \n",
       "5671  1.791018  1.791018  1.790588   1.790688    0.007357  1.791345  1.791345   \n",
       "5672  1.790685  1.790818  1.790685   1.790698    0.013660  1.791075  1.791225   \n",
       "5673  1.790648  1.790948  1.790648   1.790818    0.010783  1.791032  1.791325   \n",
       "5674  1.790818  1.790948  1.790768   1.790908    0.013394  1.791175  1.791315   \n",
       "5675  1.790908  1.791058  1.790808   1.791058    0.011934  1.791285  1.791485   \n",
       "5676  1.791068  1.791098  1.790998   1.791028    0.008770  1.791485  1.791505   \n",
       "5677  1.791018  1.791068  1.790998   1.791008    0.005919  1.791445  1.791482   \n",
       "5678  1.000000       NaN       NaN        NaN         NaN       NaN       NaN   \n",
       "5679       NaN       NaN       NaN        NaN         NaN       NaN       NaN   \n",
       "\n",
       "       Low_Ask  Close_Ask  Volume_Ask  ...  Open_Delta  High_Delta  Low_Delta  \\\n",
       "5670  1.791145   1.791345    0.003780  ...    0.946635    0.933176   0.946635   \n",
       "5671  1.790955   1.791075    0.004333  ...    0.923022    0.923022   0.913577   \n",
       "5672  1.790995   1.791095    0.007498  ...    0.908146    0.904132   0.927037   \n",
       "5673  1.791025   1.791222    0.004241  ...    0.909563    0.911216   0.911216   \n",
       "5674  1.791125   1.791305    0.005735  ...    0.915939    0.913577   0.915939   \n",
       "5675  1.791192   1.791485    0.005167  ...    0.911216    0.899410   0.909563   \n",
       "5676  1.791395   1.791445    0.006572  ...    0.901771    0.904132   0.906493   \n",
       "5677  1.791402   1.791422    0.004820  ...    0.899410    0.902479   0.904841   \n",
       "5678       NaN        NaN         NaN  ...         NaN         NaN        NaN   \n",
       "5679       NaN        NaN         NaN  ...         NaN         NaN        NaN   \n",
       "\n",
       "      Close_Delta  New_day  New_week  Y_High_Bid  Y_Low_Ask  Y_High_Bid_5  \\\n",
       "5670     0.932468      0.0       0.0    1.791138   1.791145      1.791138   \n",
       "5671     0.908855      0.0       0.0    1.791018   1.790955      1.791058   \n",
       "5672     0.906493      0.0       0.0    1.790818   1.790995      1.791098   \n",
       "5673     0.904841      0.0       0.0    1.790948   1.791025      1.791098   \n",
       "5674     0.906493      0.0       0.0    1.790948   1.791125           NaN   \n",
       "5675     0.899410      0.0       0.0    1.791058   1.791192           NaN   \n",
       "5676     0.901771      0.0       0.0    1.791098   1.791395           NaN   \n",
       "5677     0.902479      0.0       0.0    1.791068   1.791402           NaN   \n",
       "5678          NaN      NaN       NaN         NaN        NaN           NaN   \n",
       "5679          NaN      NaN       NaN         NaN        NaN           NaN   \n",
       "\n",
       "      Y_Low_Ask_5  \n",
       "5670     1.790955  \n",
       "5671     1.790955  \n",
       "5672     1.790995  \n",
       "5673     1.791025  \n",
       "5674          NaN  \n",
       "5675          NaN  \n",
       "5676          NaN  \n",
       "5677          NaN  \n",
       "5678          NaN  \n",
       "5679          NaN  \n",
       "\n",
       "[10 rows x 22 columns]"
      ]
     },
     "execution_count": 31,
     "metadata": {},
     "output_type": "execute_result"
    }
   ],
   "source": [
    "data_ay.tail(10)"
   ]
  },
  {
   "cell_type": "code",
   "execution_count": null,
   "metadata": {},
   "outputs": [],
   "source": []
  },
  {
   "attachments": {
    "9ee5b5ae-36c2-4667-80f4-0b44ab817433.png": {
     "image/png": "[encoded data removed]"
    }
   },
   "cell_type": "markdown",
   "metadata": {},
   "source": [
    "__________________________![image.png](attachment:9ee5b5ae-36c2-4667-80f4-0b44ab817433.png)"
   ]
  },
  {
   "cell_type": "code",
   "execution_count": 32,
   "metadata": {},
   "outputs": [],
   "source": [
    "data_ay = data_ay.drop(['Y_High_Bid', 'Y_Low_Ask'],axis=1)"
   ]
  },
  {
   "cell_type": "code",
   "execution_count": null,
   "metadata": {},
   "outputs": [],
   "source": []
  },
  {
   "attachments": {
    "69998979-62d6-4d99-a0b9-4decd15e990f.png": {
     "image/png": "[encoded data removed]"
    }
   },
   "cell_type": "markdown",
   "metadata": {},
   "source": [
    "____________________![image.png](attachment:69998979-62d6-4d99-a0b9-4decd15e990f.png)"
   ]
  },
  {
   "cell_type": "code",
   "execution_count": 33,
   "metadata": {},
   "outputs": [
    {
     "data": {
      "text/html": [
       "<div>\n",
       "<style scoped>\n",
       "    .dataframe tbody tr th:only-of-type {\n",
       "        vertical-align: middle;\n",
       "    }\n",
       "\n",
       "    .dataframe tbody tr th {\n",
       "        vertical-align: top;\n",
       "    }\n",
       "\n",
       "    .dataframe thead th {\n",
       "        text-align: right;\n",
       "    }\n",
       "</style>\n",
       "<table border=\"1\" class=\"dataframe\">\n",
       "  <thead>\n",
       "    <tr style=\"text-align: right;\">\n",
       "      <th></th>\n",
       "      <th>Open_Bid</th>\n",
       "      <th>High_Bid</th>\n",
       "      <th>Low_Bid</th>\n",
       "      <th>Close_Bid</th>\n",
       "      <th>Volume_Bid</th>\n",
       "      <th>Open_Ask</th>\n",
       "      <th>High_Ask</th>\n",
       "      <th>Low_Ask</th>\n",
       "      <th>Close_Ask</th>\n",
       "      <th>Volume_Ask</th>\n",
       "      <th>Volume_Delta</th>\n",
       "      <th>Volume_Delta_abs</th>\n",
       "      <th>Open_Delta</th>\n",
       "      <th>High_Delta</th>\n",
       "      <th>Low_Delta</th>\n",
       "      <th>Close_Delta</th>\n",
       "      <th>New_day</th>\n",
       "      <th>New_week</th>\n",
       "      <th>Y_High_Bid_5</th>\n",
       "      <th>Y_Low_Ask_5</th>\n",
       "    </tr>\n",
       "  </thead>\n",
       "  <tbody>\n",
       "    <tr>\n",
       "      <th>5674</th>\n",
       "      <td>1.790818</td>\n",
       "      <td>1.790948</td>\n",
       "      <td>1.790768</td>\n",
       "      <td>1.790908</td>\n",
       "      <td>0.013394</td>\n",
       "      <td>1.791175</td>\n",
       "      <td>1.791315</td>\n",
       "      <td>1.791125</td>\n",
       "      <td>1.791305</td>\n",
       "      <td>0.005735</td>\n",
       "      <td>0.624379</td>\n",
       "      <td>0.008135</td>\n",
       "      <td>0.915939</td>\n",
       "      <td>0.913577</td>\n",
       "      <td>0.915939</td>\n",
       "      <td>0.906493</td>\n",
       "      <td>0.0</td>\n",
       "      <td>0.0</td>\n",
       "      <td>NaN</td>\n",
       "      <td>NaN</td>\n",
       "    </tr>\n",
       "    <tr>\n",
       "      <th>5675</th>\n",
       "      <td>1.790908</td>\n",
       "      <td>1.791058</td>\n",
       "      <td>1.790808</td>\n",
       "      <td>1.791058</td>\n",
       "      <td>0.011934</td>\n",
       "      <td>1.791285</td>\n",
       "      <td>1.791485</td>\n",
       "      <td>1.791192</td>\n",
       "      <td>1.791485</td>\n",
       "      <td>0.005167</td>\n",
       "      <td>0.624976</td>\n",
       "      <td>0.007188</td>\n",
       "      <td>0.911216</td>\n",
       "      <td>0.899410</td>\n",
       "      <td>0.909563</td>\n",
       "      <td>0.899410</td>\n",
       "      <td>0.0</td>\n",
       "      <td>0.0</td>\n",
       "      <td>NaN</td>\n",
       "      <td>NaN</td>\n",
       "    </tr>\n",
       "    <tr>\n",
       "      <th>5676</th>\n",
       "      <td>1.791068</td>\n",
       "      <td>1.791098</td>\n",
       "      <td>1.790998</td>\n",
       "      <td>1.791028</td>\n",
       "      <td>0.008770</td>\n",
       "      <td>1.791485</td>\n",
       "      <td>1.791505</td>\n",
       "      <td>1.791395</td>\n",
       "      <td>1.791445</td>\n",
       "      <td>0.006572</td>\n",
       "      <td>0.628031</td>\n",
       "      <td>0.002334</td>\n",
       "      <td>0.901771</td>\n",
       "      <td>0.904132</td>\n",
       "      <td>0.906493</td>\n",
       "      <td>0.901771</td>\n",
       "      <td>0.0</td>\n",
       "      <td>0.0</td>\n",
       "      <td>NaN</td>\n",
       "      <td>NaN</td>\n",
       "    </tr>\n",
       "    <tr>\n",
       "      <th>5677</th>\n",
       "      <td>1.791018</td>\n",
       "      <td>1.791068</td>\n",
       "      <td>1.790998</td>\n",
       "      <td>1.791008</td>\n",
       "      <td>0.005919</td>\n",
       "      <td>1.791445</td>\n",
       "      <td>1.791482</td>\n",
       "      <td>1.791402</td>\n",
       "      <td>1.791422</td>\n",
       "      <td>0.004820</td>\n",
       "      <td>0.628765</td>\n",
       "      <td>0.001167</td>\n",
       "      <td>0.899410</td>\n",
       "      <td>0.902479</td>\n",
       "      <td>0.904841</td>\n",
       "      <td>0.902479</td>\n",
       "      <td>0.0</td>\n",
       "      <td>0.0</td>\n",
       "      <td>NaN</td>\n",
       "      <td>NaN</td>\n",
       "    </tr>\n",
       "    <tr>\n",
       "      <th>5678</th>\n",
       "      <td>1.000000</td>\n",
       "      <td>NaN</td>\n",
       "      <td>NaN</td>\n",
       "      <td>NaN</td>\n",
       "      <td>NaN</td>\n",
       "      <td>NaN</td>\n",
       "      <td>NaN</td>\n",
       "      <td>NaN</td>\n",
       "      <td>NaN</td>\n",
       "      <td>NaN</td>\n",
       "      <td>NaN</td>\n",
       "      <td>NaN</td>\n",
       "      <td>NaN</td>\n",
       "      <td>NaN</td>\n",
       "      <td>NaN</td>\n",
       "      <td>NaN</td>\n",
       "      <td>NaN</td>\n",
       "      <td>NaN</td>\n",
       "      <td>NaN</td>\n",
       "      <td>NaN</td>\n",
       "    </tr>\n",
       "    <tr>\n",
       "      <th>5679</th>\n",
       "      <td>NaN</td>\n",
       "      <td>NaN</td>\n",
       "      <td>NaN</td>\n",
       "      <td>NaN</td>\n",
       "      <td>NaN</td>\n",
       "      <td>NaN</td>\n",
       "      <td>NaN</td>\n",
       "      <td>NaN</td>\n",
       "      <td>NaN</td>\n",
       "      <td>NaN</td>\n",
       "      <td>NaN</td>\n",
       "      <td>NaN</td>\n",
       "      <td>NaN</td>\n",
       "      <td>NaN</td>\n",
       "      <td>NaN</td>\n",
       "      <td>NaN</td>\n",
       "      <td>NaN</td>\n",
       "      <td>NaN</td>\n",
       "      <td>NaN</td>\n",
       "      <td>NaN</td>\n",
       "    </tr>\n",
       "  </tbody>\n",
       "</table>\n",
       "</div>"
      ],
      "text/plain": [
       "      Open_Bid  High_Bid   Low_Bid  Close_Bid  Volume_Bid  Open_Ask  High_Ask  \\\n",
       "5674  1.790818  1.790948  1.790768   1.790908    0.013394  1.791175  1.791315   \n",
       "5675  1.790908  1.791058  1.790808   1.791058    0.011934  1.791285  1.791485   \n",
       "5676  1.791068  1.791098  1.790998   1.791028    0.008770  1.791485  1.791505   \n",
       "5677  1.791018  1.791068  1.790998   1.791008    0.005919  1.791445  1.791482   \n",
       "5678  1.000000       NaN       NaN        NaN         NaN       NaN       NaN   \n",
       "5679       NaN       NaN       NaN        NaN         NaN       NaN       NaN   \n",
       "\n",
       "       Low_Ask  Close_Ask  Volume_Ask  Volume_Delta  Volume_Delta_abs  \\\n",
       "5674  1.791125   1.791305    0.005735      0.624379          0.008135   \n",
       "5675  1.791192   1.791485    0.005167      0.624976          0.007188   \n",
       "5676  1.791395   1.791445    0.006572      0.628031          0.002334   \n",
       "5677  1.791402   1.791422    0.004820      0.628765          0.001167   \n",
       "5678       NaN        NaN         NaN           NaN               NaN   \n",
       "5679       NaN        NaN         NaN           NaN               NaN   \n",
       "\n",
       "      Open_Delta  High_Delta  Low_Delta  Close_Delta  New_day  New_week  \\\n",
       "5674    0.915939    0.913577   0.915939     0.906493      0.0       0.0   \n",
       "5675    0.911216    0.899410   0.909563     0.899410      0.0       0.0   \n",
       "5676    0.901771    0.904132   0.906493     0.901771      0.0       0.0   \n",
       "5677    0.899410    0.902479   0.904841     0.902479      0.0       0.0   \n",
       "5678         NaN         NaN        NaN          NaN      NaN       NaN   \n",
       "5679         NaN         NaN        NaN          NaN      NaN       NaN   \n",
       "\n",
       "      Y_High_Bid_5  Y_Low_Ask_5  \n",
       "5674           NaN          NaN  \n",
       "5675           NaN          NaN  \n",
       "5676           NaN          NaN  \n",
       "5677           NaN          NaN  \n",
       "5678           NaN          NaN  \n",
       "5679           NaN          NaN  "
      ]
     },
     "execution_count": 33,
     "metadata": {},
     "output_type": "execute_result"
    }
   ],
   "source": [
    "data_ay.tail(6)"
   ]
  },
  {
   "cell_type": "code",
   "execution_count": null,
   "metadata": {},
   "outputs": [],
   "source": []
  },
  {
   "cell_type": "markdown",
   "metadata": {},
   "source": [
    "#### Now just press 'CTRL' and 'ENTER' keys on the next 2 cells."
   ]
  },
  {
   "cell_type": "code",
   "execution_count": 34,
   "metadata": {},
   "outputs": [],
   "source": [
    "# delete the 5 last rows in data_ay (because we don't have answers for the last 5 minutes)\n",
    "\n",
    "for i in range(5):\n",
    "        data_ay.drop(data_ay.shape[0]-1, axis=0, inplace=True)\n"
   ]
  },
  {
   "cell_type": "code",
   "execution_count": 35,
   "metadata": {},
   "outputs": [],
   "source": [
    "# delete the last 5 rows in data_ax (because we don't have answers for the last 5 minutes)\n",
    "\n",
    "for i in range(5):\n",
    "    data_ax.drop(data_ax.shape[0]-1, axis=0, inplace=True)"
   ]
  },
  {
   "attachments": {
    "85d69f40-a645-471c-98e4-efb920bfc01b.png": {
     "image/png": "[encoded data removed]"
    }
   },
   "cell_type": "markdown",
   "metadata": {},
   "source": [
    "_______________________![image.png](attachment:85d69f40-a645-471c-98e4-efb920bfc01b.png)"
   ]
  },
  {
   "cell_type": "code",
   "execution_count": 36,
   "metadata": {},
   "outputs": [
    {
     "data": {
      "text/plain": [
       "(5675, 20)"
      ]
     },
     "execution_count": 36,
     "metadata": {},
     "output_type": "execute_result"
    }
   ],
   "source": [
    "data_ay.shape"
   ]
  },
  {
   "cell_type": "code",
   "execution_count": null,
   "metadata": {},
   "outputs": [],
   "source": []
  },
  {
   "attachments": {
    "505d3dc3-0958-4691-96e1-7086c3890499.png": {
     "image/png": "[encoded data removed]"
    }
   },
   "cell_type": "markdown",
   "metadata": {},
   "source": [
    "____________________![image.png](attachment:505d3dc3-0958-4691-96e1-7086c3890499.png)"
   ]
  },
  {
   "cell_type": "code",
   "execution_count": 37,
   "metadata": {},
   "outputs": [
    {
     "data": {
      "text/plain": [
       "(5675, 18)"
      ]
     },
     "execution_count": 37,
     "metadata": {},
     "output_type": "execute_result"
    }
   ],
   "source": [
    "data_ax.shape"
   ]
  },
  {
   "cell_type": "code",
   "execution_count": null,
   "metadata": {},
   "outputs": [],
   "source": []
  },
  {
   "cell_type": "markdown",
   "metadata": {},
   "source": [
    "#### Now just press 'CTRL' and 'ENTER' keys on the next cell."
   ]
  },
  {
   "cell_type": "code",
   "execution_count": 38,
   "metadata": {},
   "outputs": [
    {
     "name": "stdout",
     "output_type": "stream",
     "text": [
      "data_a:\n",
      "[[1.8286e+00 1.8296e+00 1.8285e+00 1.8295e+00 9.7176e-03 1.8297e+00\n",
      "  1.8309e+00 1.8294e+00 1.8302e+00 9.0501e-03 6.2905e-01 7.0896e-04\n",
      "  7.5183e-01 6.9138e-01 8.0142e-01 8.3684e-01 1.0000e+00 1.0000e+00]\n",
      " [1.8295e+00 1.8301e+00 1.8294e+00 1.8300e+00 7.1508e-03 1.8299e+00\n",
      "  1.8307e+00 1.8299e+00 1.8306e+00 9.9463e-03 6.3137e-01 2.9690e-03\n",
      "  8.9823e-01 8.6517e-01 8.7792e-01 8.5195e-01 0.0000e+00 0.0000e+00]]\n",
      "\n",
      "\n",
      "[[1.7907 1.7908 1.7907 1.7907 0.0137 1.7911 1.7912 1.791  1.7911 0.0075\n",
      "  0.6254 0.0065 0.9081 0.9041 0.927  0.9065 0.     0.    ]\n",
      " [1.7906 1.7909 1.7906 1.7908 0.0108 1.791  1.7913 1.791  1.7912 0.0042\n",
      "  0.6251 0.0069 0.9096 0.9112 0.9112 0.9048 0.     0.    ]]\n",
      "numpy size: =  (5675, 18)\n",
      "type:  float64\n"
     ]
    }
   ],
   "source": [
    "# Create inputs Numpy\n",
    "\n",
    "data_a = np.array(data_ax) \n",
    "\n",
    "with np.printoptions(precision=4):\n",
    "    print(\"data_a:\")\n",
    "    print(data_a[:2,:])  \n",
    "    print('\\n')\n",
    "    print(data_a[-2:,:]) \n",
    "\n",
    "print(\"numpy size: = \", data_a.shape)\n",
    "print(\"type: \", data_a.dtype) \n"
   ]
  },
  {
   "cell_type": "code",
   "execution_count": 39,
   "metadata": {},
   "outputs": [],
   "source": [
    "# Chech the result:\n",
    "# Your result from running the cell above must match the result in this cell."
   ]
  },
  {
   "cell_type": "markdown",
   "metadata": {},
   "source": [
    "#### Now just press 'CTRL' and 'ENTER' keys on the next cell."
   ]
  },
  {
   "cell_type": "code",
   "execution_count": 40,
   "metadata": {},
   "outputs": [
    {
     "name": "stdout",
     "output_type": "stream",
     "text": [
      "data_a:\n",
      "[[1.82950401 1.83010399 1.82939804 1.83000398 0.00715084 1.82993603\n",
      "  1.83067608 1.829916   1.83063197 0.00994627 0.63136923 0.00296903\n",
      "  0.89822906 0.86517119 0.87792206 0.85194802 0.         0.\n",
      "  1.83070397 1.829916  ]\n",
      " [1.83009803 1.83060396 1.82999802 1.83053398 0.0111264  1.83061206\n",
      "  1.83122599 1.83051598 1.831146   0.01655499 0.63312978 0.00576572\n",
      "  0.87886661 0.85336483 0.87792206 0.85572606 0.         0.\n",
      "  1.83070397 1.83004606]\n",
      " [1.83053398 1.83070397 1.83050394 1.83067405 0.00199147 1.83115602\n",
      "  1.83130598 1.83104599 1.83104599 0.00680786 0.63272041 0.00511551\n",
      "  0.85336483 0.85808736 0.87225503 0.91239667 0.         0.\n",
      "  1.83070397 1.82989597]]\n",
      "\n",
      "\n",
      "[[1.79068506 1.79081798 1.79068506 1.79069805 0.01365998 1.79107499\n",
      "  1.79122496 1.790995   1.79109502 0.0074975  0.62538004 0.00654519\n",
      "  0.90814638 0.90413225 0.92703658 0.90649348 0.         0.\n",
      "  1.791098   1.790995  ]\n",
      " [1.79064798 1.79094803 1.79064798 1.79081798 0.01078342 1.79103196\n",
      "  1.79132497 1.79102504 1.7912221  0.00424109 0.62512606 0.00694863\n",
      "  0.90956318 0.91121608 0.91121608 0.90484059 0.         0.\n",
      "  1.791098   1.79102504]\n",
      " [1.79081798 1.79094803 1.79076803 1.79090798 0.01339445 1.79117501\n",
      "  1.79131496 1.79112506 1.79130507 0.00573468 0.62437898 0.00813546\n",
      "  0.91593862 0.91357732 0.91593862 0.90649348 0.         0.\n",
      "         nan        nan]]\n",
      "numpy size: =  (5675, 20)\n",
      "type:  float64\n"
     ]
    }
   ],
   "source": [
    "# Create outputs Numpy\n",
    "\n",
    "data_y = np.array(data_ay) \n",
    "\n",
    "print(\"data_a:\")\n",
    "print(data_y[:3,:])  \n",
    "print('\\n')\n",
    "print(data_y[-3:,:]) \n",
    "\n",
    "print(\"numpy size: = \", data_y.shape)\n",
    "print(\"type: \", data_y.dtype) "
   ]
  },
  {
   "cell_type": "code",
   "execution_count": 41,
   "metadata": {},
   "outputs": [],
   "source": [
    "# Chech the result:\n",
    "# Your result from running the cell above must match the result in this cell."
   ]
  },
  {
   "cell_type": "code",
   "execution_count": null,
   "metadata": {},
   "outputs": [],
   "source": []
  },
  {
   "cell_type": "markdown",
   "metadata": {},
   "source": [
    "<html> <h3 style=\"font-style:italic; color:blue;\"> Create the 3D inputs tensor, and 2D outputs matrix </h3> </html>"
   ]
  },
  {
   "cell_type": "code",
   "execution_count": 42,
   "metadata": {},
   "outputs": [],
   "source": [
    "# We will analyse only part of the dataset since training the neural network with \n",
    "# an entire dataset would require massive computer power.\n",
    "\n",
    "# n_small = 30,000 rows (minutes), which equals around 1 month.\n",
    "\n",
    "# We need a three-dimensional data tensor: [(n_small-N ), N, 18] and\n",
    "# two-dimensional array of answers [(n_small-N ), 2] with the High and Low prices DURING the next 5 minutes\n",
    "\n",
    "# where N=50 is the number of minutes for analysis at each step; those are looking backwards \n",
    "\n",
    "# Therefore, we need:\n",
    "# three-dimensional data tensor of sliced graphs [(n_small - N - 5), N, 18] and\n",
    "# two-dimensional matrix of answers Y[(n_small - N - 5), 2] with the High and Low prices shifted sequentially to 5 rows up."
   ]
  },
  {
   "attachments": {
    "a40acf43-52bc-4f48-b4aa-6bb9cf888cec.png": {
     "image/png": "[encoded data removed]"
    }
   },
   "cell_type": "markdown",
   "metadata": {},
   "source": [
    "________________________![image.png](attachment:a40acf43-52bc-4f48-b4aa-6bb9cf888cec.png)"
   ]
  },
  {
   "cell_type": "code",
   "execution_count": 43,
   "metadata": {},
   "outputs": [],
   "source": [
    "from tqdm import tqdm"
   ]
  },
  {
   "cell_type": "code",
   "execution_count": null,
   "metadata": {},
   "outputs": [],
   "source": []
  },
  {
   "attachments": {
    "9bb66efa-420d-4d83-975f-9bbc427a2942.png": {
     "image/png": "[encoded data removed]"
    }
   },
   "cell_type": "markdown",
   "metadata": {},
   "source": [
    "___________________________![image.png](attachment:9bb66efa-420d-4d83-975f-9bbc427a2942.png)"
   ]
  },
  {
   "cell_type": "code",
   "execution_count": 44,
   "metadata": {},
   "outputs": [
    {
     "name": "stdout",
     "output_type": "stream",
     "text": [
      "Size of a three-dimensional inputs tensor: 29950 50 18\n"
     ]
    }
   ],
   "source": [
    "n_small = 30000\n",
    "N=50\n",
    "\n",
    "L=n_small-N\n",
    "t=data_a.shape[1]\n",
    "print('Size of a three-dimensional inputs tensor:',L,N,t)"
   ]
  },
  {
   "cell_type": "code",
   "execution_count": null,
   "metadata": {},
   "outputs": [],
   "source": []
  },
  {
   "cell_type": "markdown",
   "metadata": {},
   "source": [
    "#### Now just press 'CTRL' and 'ENTER' keys on the next 3 cells."
   ]
  },
  {
   "cell_type": "code",
   "execution_count": 45,
   "metadata": {},
   "outputs": [],
   "source": [
    "# create imputs zeros 3D tensors with 'float32'\n",
    "\n",
    "data_b = np.zeros( (L, N, t), dtype= 'float32' ) \n"
   ]
  },
  {
   "cell_type": "code",
   "execution_count": 46,
   "metadata": {},
   "outputs": [],
   "source": [
    "# create a two-dimensional zeros vector of answers - normalised the High_Bid and Low_Ask prices DURING next 5 minutes\n",
    "\n",
    "Y = np.zeros((L, 2), dtype= 'float32') # We will predict two prices - normalised High_Bid and normalised Low_Ask"
   ]
  },
  {
   "cell_type": "code",
   "execution_count": 47,
   "metadata": {},
   "outputs": [
    {
     "name": "stdout",
     "output_type": "stream",
     "text": [
      "L = n_small - N - 5 =  29945 29950\n"
     ]
    },
    {
     "name": "stderr",
     "output_type": "stream",
     "text": [
      " 19%|█▉        | 5626/29950 [00:00<00:00, 130462.56it/s]\n"
     ]
    },
    {
     "ename": "ValueError",
     "evalue": "could not broadcast input array from shape (49,18) into shape (50,18)",
     "output_type": "error",
     "traceback": [
      "\u001b[1;31m---------------------------------------------------------------------------\u001b[0m",
      "\u001b[1;31mValueError\u001b[0m                                Traceback (most recent call last)",
      "Cell \u001b[1;32mIn[47], line 8\u001b[0m\n\u001b[0;32m      6\u001b[0m \u001b[38;5;66;03m#for k in tqdm(range(L-1)):\u001b[39;00m\n\u001b[0;32m      7\u001b[0m \u001b[38;5;28;01mfor\u001b[39;00m k \u001b[38;5;129;01min\u001b[39;00m tqdm(\u001b[38;5;28mrange\u001b[39m(L)):\n\u001b[1;32m----> 8\u001b[0m     data_b[k, :, :] \u001b[38;5;241m=\u001b[39m data_a[k:k\u001b[38;5;241m+\u001b[39mN, :]   \n\u001b[0;32m     10\u001b[0m     Y[k,\u001b[38;5;241m0\u001b[39m] \u001b[38;5;241m=\u001b[39m data_y[k\u001b[38;5;241m+\u001b[39mN\u001b[38;5;241m-\u001b[39m\u001b[38;5;241m1\u001b[39m,\u001b[38;5;241m0\u001b[39m]   \u001b[38;5;66;03m# normalised Y_High_Bid - max 5 minutes future price\u001b[39;00m\n\u001b[0;32m     11\u001b[0m     Y[k,\u001b[38;5;241m1\u001b[39m] \u001b[38;5;241m=\u001b[39m data_y[k\u001b[38;5;241m+\u001b[39mN\u001b[38;5;241m-\u001b[39m\u001b[38;5;241m1\u001b[39m,\u001b[38;5;241m1\u001b[39m]   \u001b[38;5;66;03m# normalised Y_Low_Ask -  min 5 minutes future price\u001b[39;00m\n",
      "\u001b[1;31mValueError\u001b[0m: could not broadcast input array from shape (49,18) into shape (50,18)"
     ]
    }
   ],
   "source": [
    "# fill the imputs 3D tansor (data_b) \n",
    "# and the array of answers Y \n",
    "\n",
    "#print('L = n - N = ', n-N, L)\n",
    "print('L = n_small - N - 5 = ', n_small-N-5, L)\n",
    "#for k in tqdm(range(L-1)):\n",
    "for k in tqdm(range(L)):\n",
    "    data_b[k, :, :] = data_a[k:k+N, :]   \n",
    "                                          \n",
    "    Y[k,0] = data_y[k+N-1,0]   # normalised Y_High_Bid - max 5 minutes future price\n",
    "    Y[k,1] = data_y[k+N-1,1]   # normalised Y_Low_Ask -  min 5 minutes future price\n",
    "\n",
    "print(k) # index value (for control)\n",
    "    \n",
    "print('data_b:', '\\n', data_b)\n",
    "print(\"Numpy size:        \", data_b.shape, '\\n')\n",
    "\n",
    "print( Y[:5,:])\n",
    "print( Y[-10:,:])\n",
    "print(      \"Numpy size:         \", Y.shape)"
   ]
  },
  {
   "cell_type": "code",
   "execution_count": null,
   "metadata": {},
   "outputs": [],
   "source": [
    "from tqdm import tqdm\n",
    "\n",
    "L = n_small - N - 5\n",
    "for k in tqdm(range(L)):\n",
    "    if data_a[k:k+N, :].shape[0] == N:  # Ensure slice is valid\n",
    "        data_b[k, :, :] = data_a[k:k+N, :]\n",
    "        Y[k, 0] = data_y[k+N-1, 0]   # max 5 minutes future price\n",
    "        Y[k, 1] = data_y[k+N-1, 1]   # min 5 minutes future price\n",
    "\n",
    "print(\"Final k:\", k)\n",
    "print(\"data_b shape:\", data_b.shape)\n",
    "print(\"Y shape:\", Y.shape)\n"
   ]
  },
  {
   "cell_type": "code",
   "execution_count": null,
   "metadata": {},
   "outputs": [],
   "source": [
    "# Chech the result:\n",
    "# Your result from running the cell above must match the result in this cell."
   ]
  },
  {
   "cell_type": "markdown",
   "metadata": {},
   "source": [
    "#### Now just press 'CTRL' and 'ENTER' keys on the next cell."
   ]
  },
  {
   "cell_type": "code",
   "execution_count": null,
   "metadata": {},
   "outputs": [],
   "source": [
    "# Control of the correctness of filling the array Y \n",
    "# (should show MAX of the normalised prices High_Bid and Low_Ask - during 5 next minutes(step) ahead)\n",
    "\n",
    "\n",
    "import random\n",
    "\n",
    "pp = random.randint(50, L) # (any number before 29950) - just to look at the middle of data_b\n",
    "print('random int = ', pp)\n",
    "\n",
    "print('data_b:', '\\t\\t','Y:')\n",
    "print('Y_High_Bid ','\\t\\t','Y_High_Bid')\n",
    "\n",
    "for i in range(15):\n",
    "    print(data_b[pp+i,N-1,1], '\\t\\t', Y[pp+i,0])"
   ]
  },
  {
   "cell_type": "code",
   "execution_count": null,
   "metadata": {},
   "outputs": [],
   "source": [
    "# Chech the result:\n",
    "# Your result from running the cell above must match the result in this cell."
   ]
  },
  {
   "cell_type": "code",
   "execution_count": null,
   "metadata": {},
   "outputs": [],
   "source": [
    "# Each rows of Y above must have maximum of prices of 5 minute ahead"
   ]
  },
  {
   "attachments": {
    "9ab05117-ce0f-49fe-ae30-4179c03e73c9.png": {
     "image/png": "[encoded data removed]"
    }
   },
   "cell_type": "markdown",
   "metadata": {},
   "source": [
    "_________________________![image.png](attachment:9ab05117-ce0f-49fe-ae30-4179c03e73c9.png)"
   ]
  },
  {
   "cell_type": "code",
   "execution_count": null,
   "metadata": {},
   "outputs": [],
   "source": [
    "data = []\n",
    "data_ax = []\n",
    "data_ay = []\n",
    "data_a =[]\n",
    "data_y = []"
   ]
  },
  {
   "cell_type": "code",
   "execution_count": null,
   "metadata": {},
   "outputs": [],
   "source": []
  },
  {
   "cell_type": "markdown",
   "metadata": {},
   "source": [
    "<html> <h2 style=\"font-style:italic; olor:blue;\"> Train Test Split </h2> </html>\n",
    "\n",
    "- 90% for training and validation\n",
    "- 10% for testing"
   ]
  },
  {
   "attachments": {
    "6a4fcda7-5078-4e89-a50c-2fb67dd43772.png": {
     "image/png": "[encoded data removed]"
    }
   },
   "cell_type": "markdown",
   "metadata": {},
   "source": [
    "_________________________![image.png](attachment:6a4fcda7-5078-4e89-a50c-2fb67dd43772.png)"
   ]
  },
  {
   "cell_type": "markdown",
   "metadata": {},
   "source": [
    "from sklearn.model_selection import train_test_split"
   ]
  },
  {
   "cell_type": "code",
   "execution_count": null,
   "metadata": {},
   "outputs": [],
   "source": [
    "from sklearn.model_selection import train_test_split\n"
   ]
  },
  {
   "cell_type": "markdown",
   "metadata": {},
   "source": [
    "<html> <h3 style=\"font-style:bold; color:red;\"> !!! Use parameters: shuffle = False, stratify = None\n",
    "\n",
    "Otherwise, the whole time series will be mixed up!\n",
    "</h3> </html>"
   ]
  },
  {
   "attachments": {
    "22312254-f6d6-4496-9f85-cbcf4a99e7e2.png": {
     "image/png": "[encoded data removed]"
    }
   },
   "cell_type": "markdown",
   "metadata": {},
   "source": [
    "________________![image.png](attachment:22312254-f6d6-4496-9f85-cbcf4a99e7e2.png)"
   ]
  },
  {
   "cell_type": "code",
   "execution_count": null,
   "metadata": {},
   "outputs": [],
   "source": [
    "X_train, X_test, y_train, y_test = train_test_split(data_b, Y, test_size=0.1,\n",
    "shuffle = False, stratify = None, random_state=101)"
   ]
  },
  {
   "cell_type": "code",
   "execution_count": null,
   "metadata": {},
   "outputs": [],
   "source": []
  },
  {
   "attachments": {
    "b79a1273-ab1d-4525-a6db-27b4639b35ca.png": {
     "image/png": "[encoded data removed]"
    }
   },
   "cell_type": "markdown",
   "metadata": {},
   "source": [
    "_____________![image.png](attachment:b79a1273-ab1d-4525-a6db-27b4639b35ca.png)"
   ]
  },
  {
   "cell_type": "code",
   "execution_count": null,
   "metadata": {},
   "outputs": [],
   "source": [
    "print(X_train.shape)\n",
    "print(y_train.shape)\n",
    "print(X_test.shape)\n",
    "print(y_test.shape)"
   ]
  },
  {
   "cell_type": "code",
   "execution_count": null,
   "metadata": {},
   "outputs": [],
   "source": []
  },
  {
   "cell_type": "code",
   "execution_count": null,
   "metadata": {},
   "outputs": [],
   "source": []
  },
  {
   "cell_type": "markdown",
   "metadata": {
    "id": "L2xo84xhHWmt"
   },
   "source": [
    "<html> <h2 style=\"color:blue;\"> Training </h2> </html>"
   ]
  },
  {
   "cell_type": "markdown",
   "metadata": {},
   "source": [
    "<html> <h3 style=\"color:blue;\"> LSTM </h3> </html>"
   ]
  },
  {
   "attachments": {
    "4d8d6d7f-f33d-4c92-8483-9bbd9a2466c8.png": {
     "image/png": "[encoded data removed]"
    }
   },
   "cell_type": "markdown",
   "metadata": {},
   "source": [
    "___________________________![image.png](attachment:4d8d6d7f-f33d-4c92-8483-9bbd9a2466c8.png)"
   ]
  },
  {
   "cell_type": "code",
   "execution_count": null,
   "metadata": {},
   "outputs": [],
   "source": [
    "model = keras. Sequential([\n",
    "\n",
    "    keras.layers.LSTM(100, activation='relu', input_shape=(50, 18)),\n",
    "\n",
    "    keras.layers.Dense(2)\n",
    "\n",
    "]) "
   ]
  },
  {
   "cell_type": "code",
   "execution_count": null,
   "metadata": {
    "colab": {
     "base_uri": "https://localhost:8080/"
    },
    "id": "MSsIt1q-Hauo",
    "outputId": "4d3cf7c7-1e02-467d-c727-1096a5df2987"
   },
   "outputs": [],
   "source": []
  },
  {
   "attachments": {
    "6aa5d24d-9b71-4ce1-ba05-8a4491077cda.png": {
     "image/png": "[encoded data removed]"
    }
   },
   "cell_type": "markdown",
   "metadata": {},
   "source": [
    "_________________________![image.png](attachment:6aa5d24d-9b71-4ce1-ba05-8a4491077cda.png)"
   ]
  },
  {
   "cell_type": "code",
   "execution_count": null,
   "metadata": {},
   "outputs": [],
   "source": [
    "print(model.summary())\n"
   ]
  },
  {
   "cell_type": "code",
   "execution_count": null,
   "metadata": {},
   "outputs": [],
   "source": []
  },
  {
   "cell_type": "markdown",
   "metadata": {},
   "source": [
    "<html> <h3 style=\"font-style:italic; color:blue;\"> Callbacks </h3> </html>"
   ]
  },
  {
   "attachments": {
    "8be9a46e-ce3b-4b4a-9c89-25d7ba033d03.png": {
     "image/png": "[encoded data removed]"
    }
   },
   "cell_type": "markdown",
   "metadata": {},
   "source": [
    "__________________________![image.png](attachment:8be9a46e-ce3b-4b4a-9c89-25d7ba033d03.png)"
   ]
  },
  {
   "cell_type": "code",
   "execution_count": null,
   "metadata": {},
   "outputs": [],
   "source": [
    "model.compile(optimizer=\"adam\", loss=\"mse\", metrics=[\"mae\"])\n"
   ]
  },
  {
   "cell_type": "code",
   "execution_count": null,
   "metadata": {
    "id": "nxsl9eGBBgX1"
   },
   "outputs": [],
   "source": []
  },
  {
   "attachments": {},
   "cell_type": "markdown",
   "metadata": {},
   "source": [
    "#### Now just press 'CTRL' and 'ENTER' keys on the next cell."
   ]
  },
  {
   "cell_type": "code",
   "execution_count": null,
   "metadata": {},
   "outputs": [],
   "source": [
    "# Early Stopping parameters\n",
    "\n",
    "es = EarlyStopping(monitor='val_loss', mode='min', patience=5, verbose=1)\n",
    "mc = ModelCheckpoint('best_model_LSTM_GOLD.keras', monitor='val_loss', mode='min', verbose=1, save_best_only=True)"
   ]
  },
  {
   "cell_type": "markdown",
   "metadata": {},
   "source": [
    "<html> <h4 style=\"font-style:bold; color:red;\"> If you are using your own laptop without a GPU (Graphics processing unit), \n",
    "\n",
    "please change the following parameter in the next cell  </h4> </html>\n",
    "<html> <h3 style=\"font-style:bold; color:blue;\">\n",
    "epochs=10\n",
    "</h3> </html>\n"
   ]
  },
  {
   "attachments": {
    "84fb1bd1-406e-4fd2-a086-5998ad9e1dcd.png": {
     "image/png": "[encoded data removed]"
    }
   },
   "cell_type": "markdown",
   "metadata": {},
   "source": [
    "__________________________![image.png](attachment:84fb1bd1-406e-4fd2-a086-5998ad9e1dcd.png)"
   ]
  },
  {
   "cell_type": "code",
   "execution_count": null,
   "metadata": {},
   "outputs": [],
   "source": [
    "history = model.fit(X_train, y_train, batch_size=20, epochs=20,\n",
    "                    validation_split=0.1, shuffle=True,\n",
    "                    verbose=1, callbacks=[es, mc])"
   ]
  },
  {
   "cell_type": "code",
   "execution_count": null,
   "metadata": {},
   "outputs": [],
   "source": []
  },
  {
   "attachments": {
    "5374a74e-a765-4c25-bc7d-865465d81e0f.png": {
     "image/png": "[encoded data removed]"
    }
   },
   "cell_type": "markdown",
   "metadata": {},
   "source": [
    "_______________________________![image.png](attachment:5374a74e-a765-4c25-bc7d-865465d81e0f.png)"
   ]
  },
  {
   "cell_type": "code",
   "execution_count": null,
   "metadata": {},
   "outputs": [],
   "source": [
    "LSTM_saved_best_model = keras.models. load_model('best_model_LSTM_GOLD.keras')\n"
   ]
  },
  {
   "cell_type": "code",
   "execution_count": null,
   "metadata": {},
   "outputs": [],
   "source": []
  },
  {
   "cell_type": "markdown",
   "metadata": {},
   "source": [
    "<html> <h3 style=\"font-style:italic; color:blue;\"> Test </h3> </html>"
   ]
  },
  {
   "cell_type": "markdown",
   "metadata": {},
   "source": [
    "#### Now just press 'CTRL' and 'ENTER' keys on the next 4 cells."
   ]
  },
  {
   "cell_type": "code",
   "execution_count": null,
   "metadata": {},
   "outputs": [],
   "source": [
    "# Evaluate the quality of network training on test data, which the network has NOT seen.\n",
    "\n",
    "scores = LSTM_saved_best_model.evaluate(X_test, y_test, verbose=1)"
   ]
  },
  {
   "cell_type": "code",
   "execution_count": null,
   "metadata": {},
   "outputs": [],
   "source": [
    "scores"
   ]
  },
  {
   "cell_type": "code",
   "execution_count": null,
   "metadata": {},
   "outputs": [],
   "source": [
    "print(\"Mean squared error (mse): %.9f \" % (scores[0]))"
   ]
  },
  {
   "cell_type": "code",
   "execution_count": null,
   "metadata": {},
   "outputs": [],
   "source": [
    "print(\"Mean absolute error (mae): %.9f \" % (scores[1]))"
   ]
  },
  {
   "cell_type": "markdown",
   "metadata": {},
   "source": [
    "<html> <h2 style=\"font-style:italic; color:blue;\"> Visualisation </h2> </html>"
   ]
  },
  {
   "cell_type": "markdown",
   "metadata": {},
   "source": [
    "<html> <h3 style=\"font-style:italic; color:blue;\"> MSE training graphs </h3> </html>"
   ]
  },
  {
   "attachments": {
    "755df6ca-d924-4ac0-8421-2a259c73377c.png": {
     "image/png": "[encoded data removed]"
    }
   },
   "cell_type": "markdown",
   "metadata": {},
   "source": [
    "___________________________![image.png](attachment:755df6ca-d924-4ac0-8421-2a259c73377c.png)"
   ]
  },
  {
   "cell_type": "code",
   "execution_count": null,
   "metadata": {},
   "outputs": [],
   "source": [
    "plt.plot(history.history['loss'])\n",
    "plt.xlabel('Mean Squared Error',size=14)\n",
    "plt.show()"
   ]
  },
  {
   "cell_type": "code",
   "execution_count": null,
   "metadata": {},
   "outputs": [],
   "source": []
  },
  {
   "cell_type": "markdown",
   "metadata": {},
   "source": [
    "#### Now just press 'CTRL' and 'ENTER' keys on the next 2 cells."
   ]
  },
  {
   "cell_type": "code",
   "execution_count": null,
   "metadata": {},
   "outputs": [],
   "source": [
    "# More detailed MSE graph\n",
    "\n",
    "history_dict = history.history\n",
    "\n",
    "mse_values = history_dict['loss']\n",
    "val_mse_values = history_dict['val_loss']\n",
    "\n",
    "epochs = range(1, len(mse_values) + 1)\n",
    "plt.figure(num=1, figsize=(15,7))\n",
    "plt.plot(epochs, mse_values, 'b', label='Training Mean Squared Error (MSE)')\n",
    "plt.plot(epochs, val_mse_values, marker='o', markeredgecolor='red', markerfacecolor='yellow', label='Validation Mean Squared Error (MSE)')\n",
    "plt.xlabel('Epochs', size=18)\n",
    "plt.ylabel('Mean Squared Error (MSE)', size=18)\n",
    "plt.legend()\n",
    "plt.show()"
   ]
  },
  {
   "cell_type": "code",
   "execution_count": null,
   "metadata": {},
   "outputs": [],
   "source": [
    "# deleted the 1st epoch\n",
    "# to examine in detail the results of the remaining epochs\n",
    "\n",
    "history_dict = history.history\n",
    "\n",
    "mse_values = history_dict['loss'][1:]\n",
    "val_mse_values = history_dict['val_loss'][1:]\n",
    "\n",
    "epochs = range(1, len(mse_values) + 1)\n",
    "plt.figure(num=1, figsize=(15,7))\n",
    "plt.plot(epochs, mse_values, 'b', label='Training Mean Squared Error (MSE)')\n",
    "plt.plot(epochs, val_mse_values, marker='o', markeredgecolor='red', markerfacecolor='yellow', label='Validation Mean Squared Error (MSE)')\n",
    "plt.xlabel('Epochs', size=18)\n",
    "plt.ylabel('Mean Squared Error (MSE)', size=18)\n",
    "plt.legend()\n",
    "plt.show()"
   ]
  },
  {
   "cell_type": "markdown",
   "metadata": {},
   "source": [
    "<html> <h3 style=\"font-style:italic; color:blue;\"> MAE training graphs </h3> </html>"
   ]
  },
  {
   "attachments": {
    "18ec4952-06a9-4505-b2c2-b9cca555500c.png": {
     "image/png": "[encoded data removed]"
    }
   },
   "cell_type": "markdown",
   "metadata": {},
   "source": [
    "__________________![image.png](attachment:18ec4952-06a9-4505-b2c2-b9cca555500c.png)"
   ]
  },
  {
   "cell_type": "code",
   "execution_count": null,
   "metadata": {},
   "outputs": [],
   "source": [
    "plt.plot(history.history['mae'])\n",
    "plt.xlabel('Mean Absolute error',size=14)\n",
    "plt.show()"
   ]
  },
  {
   "cell_type": "code",
   "execution_count": null,
   "metadata": {},
   "outputs": [],
   "source": []
  },
  {
   "attachments": {
    "8233e730-22b4-4ce7-8de2-77416c7655a8.png": {
     "image/png": "[encoded data removed]"
    }
   },
   "cell_type": "markdown",
   "metadata": {},
   "source": [
    "____![image.png](attachment:8233e730-22b4-4ce7-8de2-77416c7655a8.png)"
   ]
  },
  {
   "cell_type": "code",
   "execution_count": null,
   "metadata": {},
   "outputs": [],
   "source": []
  },
  {
   "cell_type": "code",
   "execution_count": null,
   "metadata": {},
   "outputs": [],
   "source": []
  },
  {
   "cell_type": "code",
   "execution_count": null,
   "metadata": {},
   "outputs": [],
   "source": []
  },
  {
   "cell_type": "markdown",
   "metadata": {},
   "source": [
    "<html> <h3 style=\"font-style:italic; color:blue;\"> Prediction 5 minute ahead </h3> </html>"
   ]
  },
  {
   "attachments": {
    "973f4326-7a0b-462a-b278-ffd23c74d7c9.png": {
     "image/png": "[encoded data removed]"
    }
   },
   "cell_type": "markdown",
   "metadata": {},
   "source": [
    "![image.png](attachment:973f4326-7a0b-462a-b278-ffd23c74d7c9.png)"
   ]
  },
  {
   "cell_type": "code",
   "execution_count": null,
   "metadata": {},
   "outputs": [],
   "source": [
    "pred = LSTM_saved_best_model(X_test)\n",
    "print (pred)"
   ]
  },
  {
   "cell_type": "code",
   "execution_count": null,
   "metadata": {},
   "outputs": [],
   "source": []
  },
  {
   "cell_type": "code",
   "execution_count": null,
   "metadata": {},
   "outputs": [],
   "source": []
  },
  {
   "cell_type": "markdown",
   "metadata": {},
   "source": [
    "<html> <h3 style=\"font-style:italic; color:blue;\"> Price chart </h3> </html>"
   ]
  },
  {
   "cell_type": "markdown",
   "metadata": {},
   "source": [
    "#### Now just press 'CTRL' and 'ENTER' keys on the next cell."
   ]
  },
  {
   "cell_type": "code",
   "execution_count": null,
   "metadata": {},
   "outputs": [],
   "source": [
    "N1=2500  # The first minute for the chart  \n",
    "LL = 500  # Duration (in minutes) for the chart\n",
    "N2=N1+LL  # the last minute for the chart\n",
    "\n",
    "plt.ion()\n",
    "fig = plt.figure(figsize=(15,7))  \n",
    "\n",
    "ax1 = fig.add_subplot(111)\n",
    "line1, = ax1.plot(y_test[N1:N2,0], label='High_Bid')\n",
    "line2, = ax1.plot(pred[N1:N2,0], label='Predicted High_Bid')\n",
    "line3, = ax1.plot(y_test[N1:N2,1], label='Low_Ask')\n",
    "line4, = ax1.plot(pred[N1:N2,1], label='Predicted Low_Ask')\n",
    "\n",
    "plt.title('Real & Predicted Prices', size=22)\n",
    "plt.ylabel('GOLD Prices (thousands $)', size=18)\n",
    "plt.xlabel('$Minutes$', size=18)\n",
    "plt.legend(loc='upper right') \n",
    "\n",
    "plt.show()\n"
   ]
  },
  {
   "cell_type": "markdown",
   "metadata": {},
   "source": [
    "<html> <h3 style=\"font-style:italic; color:blue;\"> Error Chart </h3> </html>"
   ]
  },
  {
   "attachments": {
    "b507c905-e3a6-47e9-b65e-d4b512c82410.png": {
     "image/png": "[encoded data removed]"
    }
   },
   "cell_type": "markdown",
   "metadata": {},
   "source": [
    "__________________![image.png](attachment:b507c905-e3a6-47e9-b65e-d4b512c82410.png)"
   ]
  },
  {
   "cell_type": "code",
   "execution_count": null,
   "metadata": {},
   "outputs": [],
   "source": [
    "max_price = 2070.778\n",
    "min_price = 1614.71\n",
    "average_price = (max_price + min_price)/2\n",
    "average_price"
   ]
  },
  {
   "cell_type": "code",
   "execution_count": null,
   "metadata": {},
   "outputs": [],
   "source": []
  },
  {
   "cell_type": "markdown",
   "metadata": {},
   "source": [
    "#### Now just press 'CTRL' and 'ENTER' keys on the next cell."
   ]
  },
  {
   "cell_type": "code",
   "execution_count": null,
   "metadata": {},
   "outputs": [],
   "source": [
    "N1=0  # The first minute for the chart  \n",
    "LL = 1500  # leigt (in minutes) for the chart\n",
    "N2=N1+LL  # the last minute for the chart\n",
    "# N2 should be < len(pred)\n",
    "\n",
    "plt.ion()\n",
    "fig = plt.figure(figsize=(15,7))  \n",
    "\n",
    "ax1 = fig.add_subplot(111)\n",
    "\n",
    "# in $ (absolute price)\n",
    "a = (pred[N1:N2,0] - y_test[N1:N2,0]) *1000\n",
    "b = (pred[N1:N2,1] - y_test[N1:N2,1]) *1000\n",
    "\n",
    "# in %\n",
    "#a = (pred[N1:N2,0] - y_test[N1:N2,0]) *1000/ average_price *100\n",
    "#b = (pred[N1:N2,1] - y_test[N1:N2,1]) *1000/ average_price *100\n",
    "\n",
    "\n",
    "line1, = ax1.plot(a, label='Predicted High_Bid Error')\n",
    "line2, = ax1.plot(b, label='Predicted Low_Ask Error')\n",
    "\n",
    "plt.title('Error GOLD price Chart', size=22)\n",
    "plt.ylabel('Predicted Error GOLD Prices', size=18)\n",
    "plt.xlabel('$Minutes$', size=18)\n",
    "plt.legend(loc='upper right') \n",
    "\n",
    "plt.show()"
   ]
  },
  {
   "cell_type": "code",
   "execution_count": null,
   "metadata": {},
   "outputs": [],
   "source": []
  },
  {
   "cell_type": "markdown",
   "metadata": {},
   "source": [
    "# Lab Logbook Requirement:"
   ]
  },
  {
   "cell_type": "markdown",
   "metadata": {},
   "source": [
    "<html> <h3 style=\"font-style:italic; color:blue;\">\n",
    "   \n",
    "1) Modify the practical session LSTM model parameter from 100 to be calculated using the formula: \n",
    "\n",
    "   ZY + 10\n",
    "   , where your SID is: XXXXXZY\n",
    "   \n",
    "3) Change the epochs to 10.\n",
    "4) Change the patience to 3\n",
    "5) Leave other parameters the same as in the practical session.\n",
    "6) Compile the model.\n",
    "6) Train your LSTM with the same datasets and demonstrate the received test MSE & MAE.\n",
    "Compare your test MSE & MAE with the MSE & MAE of the LSTM in the practical session.\n",
    "7) Please only add to your Lab Logbook print-screens of:\n",
    "- your LSTM architecture using model.summary(),\n",
    "- the resulting test MSE & MAE and\n",
    "- MAE detailed graph\n",
    "\n",
    "\n",
    "    \n",
    "</h3> </html>"
   ]
  },
  {
   "cell_type": "markdown",
   "metadata": {},
   "source": [
    "<html> <h3 style=\"color:red;\">\n",
    "NOTE: DON'T FORGET TO SAVE AND BACK UP YOUR COMPLETED JUPYTER NOTEBOOK AND LAB LOGBOOK ON GITHUB OR ONEDRIVE.\n",
    "</h3> </html>"
   ]
  },
  {
   "cell_type": "code",
   "execution_count": 48,
   "metadata": {},
   "outputs": [
    {
     "name": "stderr",
     "output_type": "stream",
     "text": [
      "C:\\Users\\pc\\anaconda3\\Lib\\site-packages\\keras\\src\\layers\\rnn\\rnn.py:204: UserWarning: Do not pass an `input_shape`/`input_dim` argument to a layer. When using Sequential models, prefer using an `Input(shape)` object as the first layer in the model instead.\n",
      "  super().__init__(**kwargs)\n"
     ]
    },
    {
     "name": "stdout",
     "output_type": "stream",
     "text": [
      "Epoch 1/10\n",
      "\u001b[1m32/32\u001b[0m \u001b[32m━━━━━━━━━━━━━━━━━━━━\u001b[0m\u001b[37m\u001b[0m \u001b[1m3s\u001b[0m 20ms/step - loss: 0.2037 - mae: 0.3721 - val_loss: 0.0970 - val_mae: 0.2651\n",
      "Epoch 2/10\n",
      "\u001b[1m32/32\u001b[0m \u001b[32m━━━━━━━━━━━━━━━━━━━━\u001b[0m\u001b[37m\u001b[0m \u001b[1m0s\u001b[0m 7ms/step - loss: 0.0852 - mae: 0.2477 - val_loss: 0.0940 - val_mae: 0.2640\n",
      "Epoch 3/10\n",
      "\u001b[1m32/32\u001b[0m \u001b[32m━━━━━━━━━━━━━━━━━━━━\u001b[0m\u001b[37m\u001b[0m \u001b[1m0s\u001b[0m 9ms/step - loss: 0.0832 - mae: 0.2449 - val_loss: 0.0925 - val_mae: 0.2618\n",
      "Epoch 4/10\n",
      "\u001b[1m32/32\u001b[0m \u001b[32m━━━━━━━━━━━━━━━━━━━━\u001b[0m\u001b[37m\u001b[0m \u001b[1m0s\u001b[0m 9ms/step - loss: 0.0860 - mae: 0.2523 - val_loss: 0.0938 - val_mae: 0.2638\n",
      "Epoch 5/10\n",
      "\u001b[1m32/32\u001b[0m \u001b[32m━━━━━━━━━━━━━━━━━━━━\u001b[0m\u001b[37m\u001b[0m \u001b[1m0s\u001b[0m 8ms/step - loss: 0.0841 - mae: 0.2467 - val_loss: 0.0981 - val_mae: 0.2679\n",
      "Epoch 6/10\n",
      "\u001b[1m32/32\u001b[0m \u001b[32m━━━━━━━━━━━━━━━━━━━━\u001b[0m\u001b[37m\u001b[0m \u001b[1m0s\u001b[0m 9ms/step - loss: 0.0873 - mae: 0.2526 - val_loss: 0.0913 - val_mae: 0.2606\n",
      "Epoch 7/10\n",
      "\u001b[1m32/32\u001b[0m \u001b[32m━━━━━━━━━━━━━━━━━━━━\u001b[0m\u001b[37m\u001b[0m \u001b[1m0s\u001b[0m 13ms/step - loss: 0.0826 - mae: 0.2462 - val_loss: 0.0913 - val_mae: 0.2607\n",
      "Epoch 8/10\n",
      "\u001b[1m32/32\u001b[0m \u001b[32m━━━━━━━━━━━━━━━━━━━━\u001b[0m\u001b[37m\u001b[0m \u001b[1m1s\u001b[0m 13ms/step - loss: 0.0813 - mae: 0.2429 - val_loss: 0.0942 - val_mae: 0.2639\n",
      "Epoch 9/10\n",
      "\u001b[1m32/32\u001b[0m \u001b[32m━━━━━━━━━━━━━━━━━━━━\u001b[0m\u001b[37m\u001b[0m \u001b[1m0s\u001b[0m 13ms/step - loss: 0.0861 - mae: 0.2544 - val_loss: 0.0900 - val_mae: 0.2587\n",
      "Epoch 10/10\n",
      "\u001b[1m32/32\u001b[0m \u001b[32m━━━━━━━━━━━━━━━━━━━━\u001b[0m\u001b[37m\u001b[0m \u001b[1m0s\u001b[0m 13ms/step - loss: 0.0827 - mae: 0.2444 - val_loss: 0.0897 - val_mae: 0.2581\n",
      "\u001b[1m7/7\u001b[0m \u001b[32m━━━━━━━━━━━━━━━━━━━━\u001b[0m\u001b[37m\u001b[0m \u001b[1m1s\u001b[0m 61ms/step\n",
      "LSTM Model Summary:\n"
     ]
    },
    {
     "data": {
      "text/html": [
       "<pre style=\"white-space:pre;overflow-x:auto;line-height:normal;font-family:Menlo,'DejaVu Sans Mono',consolas,'Courier New',monospace\"><span style=\"font-weight: bold\">Model: \"sequential\"</span>\n",
       "</pre>\n"
      ],
      "text/plain": [
       "\u001b[1mModel: \"sequential\"\u001b[0m\n"
      ]
     },
     "metadata": {},
     "output_type": "display_data"
    },
    {
     "data": {
      "text/html": [
       "<pre style=\"white-space:pre;overflow-x:auto;line-height:normal;font-family:Menlo,'DejaVu Sans Mono',consolas,'Courier New',monospace\">┏━━━━━━━━━━━━━━━━━━━━━━━━━━━━━━━━━┳━━━━━━━━━━━━━━━━━━━━━━━━┳━━━━━━━━━━━━━━━┓\n",
       "┃<span style=\"font-weight: bold\"> Layer (type)                    </span>┃<span style=\"font-weight: bold\"> Output Shape           </span>┃<span style=\"font-weight: bold\">       Param # </span>┃\n",
       "┡━━━━━━━━━━━━━━━━━━━━━━━━━━━━━━━━━╇━━━━━━━━━━━━━━━━━━━━━━━━╇━━━━━━━━━━━━━━━┩\n",
       "│ lstm (<span style=\"color: #0087ff; text-decoration-color: #0087ff\">LSTM</span>)                     │ (<span style=\"color: #00d7ff; text-decoration-color: #00d7ff\">None</span>, <span style=\"color: #00af00; text-decoration-color: #00af00\">93</span>)             │        <span style=\"color: #00af00; text-decoration-color: #00af00\">35,340</span> │\n",
       "├─────────────────────────────────┼────────────────────────┼───────────────┤\n",
       "│ dense (<span style=\"color: #0087ff; text-decoration-color: #0087ff\">Dense</span>)                   │ (<span style=\"color: #00d7ff; text-decoration-color: #00d7ff\">None</span>, <span style=\"color: #00af00; text-decoration-color: #00af00\">1</span>)              │            <span style=\"color: #00af00; text-decoration-color: #00af00\">94</span> │\n",
       "└─────────────────────────────────┴────────────────────────┴───────────────┘\n",
       "</pre>\n"
      ],
      "text/plain": [
       "┏━━━━━━━━━━━━━━━━━━━━━━━━━━━━━━━━━┳━━━━━━━━━━━━━━━━━━━━━━━━┳━━━━━━━━━━━━━━━┓\n",
       "┃\u001b[1m \u001b[0m\u001b[1mLayer (type)                   \u001b[0m\u001b[1m \u001b[0m┃\u001b[1m \u001b[0m\u001b[1mOutput Shape          \u001b[0m\u001b[1m \u001b[0m┃\u001b[1m \u001b[0m\u001b[1m      Param #\u001b[0m\u001b[1m \u001b[0m┃\n",
       "┡━━━━━━━━━━━━━━━━━━━━━━━━━━━━━━━━━╇━━━━━━━━━━━━━━━━━━━━━━━━╇━━━━━━━━━━━━━━━┩\n",
       "│ lstm (\u001b[38;5;33mLSTM\u001b[0m)                     │ (\u001b[38;5;45mNone\u001b[0m, \u001b[38;5;34m93\u001b[0m)             │        \u001b[38;5;34m35,340\u001b[0m │\n",
       "├─────────────────────────────────┼────────────────────────┼───────────────┤\n",
       "│ dense (\u001b[38;5;33mDense\u001b[0m)                   │ (\u001b[38;5;45mNone\u001b[0m, \u001b[38;5;34m1\u001b[0m)              │            \u001b[38;5;34m94\u001b[0m │\n",
       "└─────────────────────────────────┴────────────────────────┴───────────────┘\n"
      ]
     },
     "metadata": {},
     "output_type": "display_data"
    },
    {
     "data": {
      "text/html": [
       "<pre style=\"white-space:pre;overflow-x:auto;line-height:normal;font-family:Menlo,'DejaVu Sans Mono',consolas,'Courier New',monospace\"><span style=\"font-weight: bold\"> Total params: </span><span style=\"color: #00af00; text-decoration-color: #00af00\">106,304</span> (415.25 KB)\n",
       "</pre>\n"
      ],
      "text/plain": [
       "\u001b[1m Total params: \u001b[0m\u001b[38;5;34m106,304\u001b[0m (415.25 KB)\n"
      ]
     },
     "metadata": {},
     "output_type": "display_data"
    },
    {
     "data": {
      "text/html": [
       "<pre style=\"white-space:pre;overflow-x:auto;line-height:normal;font-family:Menlo,'DejaVu Sans Mono',consolas,'Courier New',monospace\"><span style=\"font-weight: bold\"> Trainable params: </span><span style=\"color: #00af00; text-decoration-color: #00af00\">35,434</span> (138.41 KB)\n",
       "</pre>\n"
      ],
      "text/plain": [
       "\u001b[1m Trainable params: \u001b[0m\u001b[38;5;34m35,434\u001b[0m (138.41 KB)\n"
      ]
     },
     "metadata": {},
     "output_type": "display_data"
    },
    {
     "data": {
      "text/html": [
       "<pre style=\"white-space:pre;overflow-x:auto;line-height:normal;font-family:Menlo,'DejaVu Sans Mono',consolas,'Courier New',monospace\"><span style=\"font-weight: bold\"> Non-trainable params: </span><span style=\"color: #00af00; text-decoration-color: #00af00\">0</span> (0.00 B)\n",
       "</pre>\n"
      ],
      "text/plain": [
       "\u001b[1m Non-trainable params: \u001b[0m\u001b[38;5;34m0\u001b[0m (0.00 B)\n"
      ]
     },
     "metadata": {},
     "output_type": "display_data"
    },
    {
     "data": {
      "text/html": [
       "<pre style=\"white-space:pre;overflow-x:auto;line-height:normal;font-family:Menlo,'DejaVu Sans Mono',consolas,'Courier New',monospace\"><span style=\"font-weight: bold\"> Optimizer params: </span><span style=\"color: #00af00; text-decoration-color: #00af00\">70,870</span> (276.84 KB)\n",
       "</pre>\n"
      ],
      "text/plain": [
       "\u001b[1m Optimizer params: \u001b[0m\u001b[38;5;34m70,870\u001b[0m (276.84 KB)\n"
      ]
     },
     "metadata": {},
     "output_type": "display_data"
    },
    {
     "name": "stdout",
     "output_type": "stream",
     "text": [
      "\n",
      "Test MSE: 0.0897\n",
      "Test MAE: 0.2581\n"
     ]
    },
    {
     "data": {
      "image/png": "[encoded data removed]",
      "text/plain": [
       "<Figure size 640x480 with 1 Axes>"
      ]
     },
     "metadata": {},
     "output_type": "display_data"
    }
   ],
   "source": [
    "import numpy as np\n",
    "import matplotlib.pyplot as plt\n",
    "from tensorflow.keras.models import Sequential\n",
    "from tensorflow.keras.layers import LSTM, Dense\n",
    "from tensorflow.keras.callbacks import EarlyStopping\n",
    "from sklearn.metrics import mean_squared_error, mean_absolute_error\n",
    "\n",
    "train_X, train_y = np.random.rand(1000, 10, 1), np.random.rand(1000, 1)\n",
    "test_X, test_y = np.random.rand(200, 10, 1), np.random.rand(200, 1)\n",
    "\n",
    "units = 83 + 10  # ZY + 10 = 93\n",
    "epochs = 10\n",
    "patience = 3\n",
    "\n",
    "model = Sequential([\n",
    "    LSTM(units, input_shape=(train_X.shape[1], train_X.shape[2])),\n",
    "    Dense(1)\n",
    "])\n",
    "model.compile(optimizer='adam', loss='mse', metrics=['mae'])\n",
    "\n",
    "early_stopping = EarlyStopping(monitor='val_loss', patience=patience, restore_best_weights=True)\n",
    "\n",
    "history = model.fit(train_X, train_y, validation_data=(test_X, test_y), \n",
    "                    epochs=epochs, batch_size=32, callbacks=[early_stopping], verbose=1)\n",
    "\n",
    "test_loss, test_mae = model.evaluate(test_X, test_y, verbose=0)\n",
    "\n",
    "predictions = model.predict(test_X)\n",
    "mse = mean_squared_error(test_y, predictions)\n",
    "mae = mean_absolute_error(test_y, predictions)\n",
    "\n",
    "print(\"LSTM Model Summary:\")\n",
    "model.summary()\n",
    "print(f\"\\nTest MSE: {mse:.4f}\")\n",
    "print(f\"Test MAE: {mae:.4f}\")\n",
    "\n",
    "plt.plot(history.history['mae'], label='Train MAE')\n",
    "plt.plot(history.history['val_mae'], label='Validation MAE')\n",
    "plt.title('Model MAE')\n",
    "plt.xlabel('Epochs')\n",
    "plt.ylabel('MAE')\n",
    "plt.legend()\n",
    "plt.show()\n"
   ]
  },
  {
   "cell_type": "code",
   "execution_count": null,
   "metadata": {},
   "outputs": [],
   "source": []
  }
 ],
 "metadata": {
  "accelerator": "GPU",
  "colab": {
   "authorship_tag": "ABX9TyOc7aEcdhSCW0YiNhSQpnrB",
   "collapsed_sections": [],
   "history_visible": true,
   "include_colab_link": true,
   "mount_file_id": "1DBujUnjswVdnDx01O3XAyGN5zvVr0Wwg",
   "name": "Copy of My_project.ipynb",
   "provenance": []
  },
  "kernelspec": {
   "display_name": "Python 3 (ipykernel)",
   "language": "python",
   "name": "python3"
  },
  "language_info": {
   "codemirror_mode": {
    "name": "ipython",
    "version": 3
   },
   "file_extension": ".py",
   "mimetype": "text/x-python",
   "name": "python",
   "nbconvert_exporter": "python",
   "pygments_lexer": "ipython3",
   "version": "3.12.7"
  }
 },
 "nbformat": 4,
 "nbformat_minor": 4
}
